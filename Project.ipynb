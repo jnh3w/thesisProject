{
 "cells": [
  {
   "cell_type": "code",
   "execution_count": 1,
   "metadata": {},
   "outputs": [],
   "source": [
    "def GetArticlesFromDateRange(startDate, endDate, dateToCheck):\n",
    "    castedDateToCheck = datetime.datetime.strptime(dateToCheck, '%Y-%m-%d').date()\n",
    "    if castedDateToCheck >= startDate and castedDateToCheck < endDate:\n",
    "        return True\n",
    "    \n",
    "    return False"
   ]
  },
  {
   "cell_type": "code",
   "execution_count": 2,
   "metadata": {},
   "outputs": [],
   "source": [
    "class article(object):\n",
    "    def __init__(self, date, information):\n",
    "        self.Date = date\n",
    "        self.Information = information"
   ]
  },
  {
   "cell_type": "markdown",
   "metadata": {},
   "source": [
    "# Got the medical documents from:\n",
    "https://github.com/socd06/medical-nlp <br />\n",
    "There's another tool someone made to get all medical terminologies on that link"
   ]
  },
  {
   "cell_type": "code",
   "execution_count": 3,
   "metadata": {},
   "outputs": [],
   "source": [
    "def GetMedicalTerms(filePath): \n",
    "    \n",
    "    lines = []\n",
    "    with open(filePath) as f:\n",
    "        for line in f:\n",
    "            lines.append(line.strip().lower())\n",
    "            \n",
    "    return lines"
   ]
  },
  {
   "cell_type": "markdown",
   "metadata": {},
   "source": [
    "# Initializing the LDA Model\n",
    "https://radimrehurek.com/gensim/models/ldaseqmodel.html"
   ]
  },
  {
   "cell_type": "code",
   "execution_count": 4,
   "metadata": {},
   "outputs": [],
   "source": [
    "from gensim.models import LdaSeqModel\n",
    "\n",
    "def GetTopicModel(corpus, id2word,dictionary, numberOfTopics = 10, chunkSize=2000):\n",
    "\n",
    "    temp = dictionary[0]  \n",
    "    \n",
    "    return LdaSeqModel(corpus=corpus,\n",
    "                       time_slice=[2330, 5992, 9234],#,9486,8986,8470,9178,9325,8368,7284,8857,5059],\n",
    "                       num_topics=numberOfTopics,\n",
    "                       id2word=id2word,\n",
    "                       chunksize=chunkSize)"
   ]
  },
  {
   "cell_type": "markdown",
   "metadata": {},
   "source": [
    "# Get the rule associations"
   ]
  },
  {
   "cell_type": "code",
   "execution_count": 5,
   "metadata": {},
   "outputs": [],
   "source": [
    "from apyori import apriori\n",
    "from nltk.stem import WordNetLemmatizer, PorterStemmer\n",
    "from datetime import datetime\n",
    "import pandas as pd  \n",
    "from IPython.display import HTML \n",
    "\n",
    "def PrintRuleAssociation(support, confidence, bow, listOfDocs, lift, length = None):   \n",
    "    porter = PorterStemmer()\n",
    "    lemmatizer = WordNetLemmatizer()\n",
    "    \n",
    "    if len(bow) == 0:\n",
    "        print('No topics found')\n",
    "        return\n",
    "    \n",
    "    rules = apriori(bow,\n",
    "                    min_support= support,\n",
    "                    min_confidence= confidence,\n",
    "                    min_lift= lift,\n",
    "                    max_length= length)\n",
    "    \n",
    "    results = list(rules)\n",
    "    \n",
    "    df = pd.DataFrame(columns=('Left Hand Side',\n",
    "                               'Right Hand Side',\n",
    "                               'Support',\n",
    "                               'Confidence',\n",
    "                               'Lift',\n",
    "                               'Count'))\n",
    "    \n",
    "    Support =[]\n",
    "    Confidence = []\n",
    "    Lift = []\n",
    "    Items = []\n",
    "    Antecedent = []\n",
    "    Consequent=[]\n",
    "    Count = []\n",
    "    tfidf = []\n",
    "      \n",
    "    maxCount = 0\n",
    "    tfidfAverage = 0\n",
    "    \n",
    "    for RelationRecord in results:\n",
    "        for ordered_stat in RelationRecord.ordered_statistics:\n",
    "            #print(\"count:\", len(ordered_stat.items_base) + len(ordered_stat.items_add))\n",
    "            #print(\"cons:\", ordered_stat.items_add)\n",
    "            if IsAntecedentDifferentFromConsequent(ordered_stat.items_base, ordered_stat.items_add):\n",
    "                if maxCount < len(ordered_stat.items_base) + len(ordered_stat.items_add):\n",
    "                    maxCount = len(ordered_stat.items_base) + len(ordered_stat.items_add)\n",
    "                    \n",
    "                consequences = list(ordered_stat.items_base)\n",
    "                antecedent = list(ordered_stat.items_add)\n",
    "                Support.append(RelationRecord.support)\n",
    "                Antecedent.append(ordered_stat.items_base)\n",
    "                Consequent.append(ordered_stat.items_add)\n",
    "                Confidence.append(ordered_stat.confidence)\n",
    "                Lift.append(ordered_stat.lift)\n",
    "                Count.append(len(ordered_stat.items_base) + len(ordered_stat.items_add))\n",
    "                tfidfsum = 0\n",
    "                for c in consequences:\n",
    "                    tfidfsum += GetWordTFIDFMeasure(c, docsAsString)\n",
    "                    \n",
    "                for a in antecedent:\n",
    "                    tfidfsum += GetWordTFIDFMeasure(a, docsAsString)\n",
    "                \n",
    "                tfidfAverage =  tfidfsum/maxCount\n",
    "                \n",
    "    df['Left Hand Side'] = list(map(set, Antecedent))\n",
    "    df['Right Hand Side'] = list(map(set, Consequent))\n",
    "    df['Support'] = Support\n",
    "    df['Confidence'] = Confidence\n",
    "    df['Lift'] = Lift\n",
    "    df['Count'] = Count\n",
    "    df['TF-IDF Average'] = tfidfAverage\n",
    "    \n",
    "    df.sort_values(by ='Lift', ascending = False, inplace = True)\n",
    "            \n",
    "    display(HTML(df.to_html()))"
   ]
  },
  {
   "cell_type": "code",
   "execution_count": 6,
   "metadata": {},
   "outputs": [],
   "source": [
    "from nltk.stem import LancasterStemmer\n",
    "\n",
    "def SameStem(word1, word2, printStemmedWords = False):\n",
    "    lancaster = LancasterStemmer()\n",
    "    if printStemmedWords:\n",
    "        print(lancaster.stem(word1), lancaster.stem(word2))\n",
    "\n",
    "    return lancaster.stem(word1) == lancaster.stem(word2)"
   ]
  },
  {
   "cell_type": "code",
   "execution_count": 7,
   "metadata": {},
   "outputs": [],
   "source": [
    "def IsAntecedentDifferentFromConsequent(Antecedent, Consequent):\n",
    "    for ant in Antecedent:\n",
    "        for cons in Consequent:\n",
    "            if SameStem(ant, cons):\n",
    "                return False\n",
    "        \n",
    "    return True\n",
    "    "
   ]
  },
  {
   "cell_type": "markdown",
   "metadata": {},
   "source": [
    "# Create the ngrams and set the ngram thresholds\n",
    "min_count – Ignore all words and bigrams with total collected count lower than this value.\n",
    "threshold – Represent a score threshold for forming the phrases. A phrase of words a followed by b is accepted if the score of the phrase is greater than threshold. Heavily depends on concrete scoring-function, see the scoring parameter.\n"
   ]
  },
  {
   "cell_type": "code",
   "execution_count": 8,
   "metadata": {
    "scrolled": true
   },
   "outputs": [],
   "source": [
    "import gensim\n",
    "from gensim.models.phrases import Phrases,Phraser\n",
    "\n",
    "def ngrams(words, minimumCount=5, threshold=15):\n",
    "    bigram = Phrases(words,\n",
    "                     min_count=minimumCount,\n",
    "                     threshold=threshold)\n",
    "    \n",
    "    trigram = Phrases(bigram[words],\n",
    "                      threshold=threshold)  \n",
    "\n",
    "    bigram_mod = Phraser(bigram)\n",
    "    trigram_mod = Phraser(trigram)\n",
    "    return bigram_mod, trigram_mod\n"
   ]
  },
  {
   "cell_type": "markdown",
   "metadata": {},
   "source": [
    "# TF-IDF WORD CHECK\n",
    "Gets the TF-IDF value for a single word"
   ]
  },
  {
   "cell_type": "code",
   "execution_count": 9,
   "metadata": {},
   "outputs": [],
   "source": [
    "from sklearn.feature_extraction.text import TfidfVectorizer \n",
    "import numpy as np\n",
    "\n",
    "def GetWordTFIDFMeasure(wordToFind, docsAsString):\n",
    "\n",
    "    tfidf_vectorizer=TfidfVectorizer(use_idf=True)\n",
    "    tfidf_vectorizer_vectors=tfidf_vectorizer.fit_transform(docsAsString)\n",
    "\n",
    "    tfidf = tfidf_vectorizer_vectors.todense()\n",
    "\n",
    "    tfidf[tfidf == 0] = np.nan\n",
    "\n",
    "    means = np.nanmean(tfidf, axis=0)\n",
    "\n",
    "    means = dict(zip(tfidf_vectorizer.get_feature_names(), means.tolist()[0]))\n",
    "\n",
    "    tfidf = tfidf_vectorizer_vectors.todense()\n",
    "\n",
    "    ordered = np.argsort(tfidf*-1)\n",
    "    words = tfidf_vectorizer.get_feature_names()\n",
    "\n",
    "    for i, doc in enumerate(docsAsString):\n",
    "        result = { }\n",
    "        for t in range(len(doc)):\n",
    "            if(words[ordered[i,t]] == wordToFind):\n",
    "                return means[words[ordered[i,t]]]"
   ]
  },
  {
   "cell_type": "markdown",
   "metadata": {},
   "source": [
    "# KMEANS CLUSTERING\n",
    "https://www.kaggle.com/jbencina/clustering-documents-with-tfidf-and-kmeans"
   ]
  },
  {
   "cell_type": "code",
   "execution_count": 25,
   "metadata": {},
   "outputs": [],
   "source": [
    "from sklearn.cluster import MiniBatchKMeans\n",
    "from sklearn.feature_extraction.text import TfidfVectorizer\n",
    "from sklearn.decomposition import PCA\n",
    "from sklearn.manifold import TSNE\n",
    "import numpy as np\n",
    "import pandas as pd\n",
    "\n",
    "def GetTopicsUsingTFIDFAndKMeansClustering(data, numberOfClusters, topNumberOfTerms):\n",
    "    tfidf = TfidfVectorizer(use_idf=True)\n",
    "    tfidf.fit(data)\n",
    "    text = tfidf.transform(data)\n",
    "    clusters = MiniBatchKMeans(n_clusters=10).fit_predict(text)\n",
    "    \n",
    "    df = pd.DataFrame(text.todense()).groupby(clusters).mean()\n",
    "\n",
    "    labels = tfidf.get_feature_names()\n",
    "    \n",
    "    results = []\n",
    "    for i,r in df.iterrows():\n",
    "        topic = [labels[t] for t in np.argsort(r)[-topNumberOfTerms:]]\n",
    "        \n",
    "        #results.append(','.join([labels[t] for t in np.argsort(r)[-topNumberOfTerms:]]))\n",
    "    \n",
    "        results.append(topic)\n",
    "    \n",
    "    return results\n",
    "    \n",
    "    "
   ]
  },
  {
   "cell_type": "markdown",
   "metadata": {},
   "source": [
    "# Get the qualifying articles from the metadata\n",
    "1. Qualifies if the publication date is within a given date range \n",
    "2. Has a pmc jcon file associated"
   ]
  },
  {
   "cell_type": "code",
   "execution_count": 11,
   "metadata": {},
   "outputs": [],
   "source": [
    "from collections import defaultdict\n",
    "import csv\n",
    "from pathlib import Path\n",
    "import json\n",
    "import os.path\n",
    "\n",
    "def GetData(startDate, endDate, path):\n",
    "    listofarticles = []\n",
    "    try:\n",
    "        with open(path + 'metadata.csv') as f_in:\n",
    "            reader = csv.DictReader(f_in)\n",
    "            for row in reader:\n",
    "                if '-' not in row['publish_time']:\n",
    "                    continue\n",
    "                elif startDate > datetime.datetime.strptime(row['publish_time'], '%Y-%m-%d').date() or datetime.datetime.strptime(row['publish_time'], '%Y-%m-%d').date() > endDate:\n",
    "                    continue\n",
    "                if not row['pmc_json_files']:\n",
    "                    continue \n",
    "            \n",
    "                for json_path in row['pmc_json_files'].split(';'):\n",
    "                    listofarticles.append(article(row['publish_time'], json_path))\n",
    "                \n",
    "    except ValueError:\n",
    "        print(\"An error occurred: \", ValueError, \" Please try again.\")\n",
    "    return listofarticles"
   ]
  },
  {
   "cell_type": "markdown",
   "metadata": {},
   "source": [
    "# Get the textbodies from the list of pdfs\n",
    "1. Remove all special characters"
   ]
  },
  {
   "cell_type": "code",
   "execution_count": 12,
   "metadata": {},
   "outputs": [],
   "source": [
    "import json\n",
    "import re\n",
    "\n",
    "def GetTextBodies(listOfpdfs, path):    \n",
    "    text = []    \n",
    "    \n",
    "    medicalWords = GetMedicalTerms(\"vocab.txt\")\n",
    "\n",
    "    for pdf in listOfpdfs:\n",
    "        filePath = path + pdf.Information.replace(\" \", \"\")\n",
    "\n",
    "        if not os.path.exists(filePath):\n",
    "            continue\n",
    "        \n",
    "        with open(filePath) as f_json:\n",
    "            full_text_dict = json.load(f_json)\n",
    "            textBody = []\n",
    "            for paragraph_dict in full_text_dict['body_text']:          \n",
    "                paragraph_text = re.sub(r'[^a-zA-Z_\\s]+', '', paragraph_dict['text'])   \n",
    "                paragraph_text = paragraph_text.lower()\n",
    "                \n",
    "                pdf.Information = paragraph_text\n",
    "    return listOfpdfs"
   ]
  },
  {
   "cell_type": "markdown",
   "metadata": {},
   "source": [
    "# Do the data pre-processing\n",
    "1. remove stop words\n",
    "2. lower case all words\n",
    "3. Check to see if the word is within the list of medical terms given"
   ]
  },
  {
   "cell_type": "code",
   "execution_count": 13,
   "metadata": {},
   "outputs": [],
   "source": [
    "import nltk\n",
    "from nltk.corpus import stopwords\n",
    "from nltk import word_tokenize  \n",
    "from nltk.stem import WordNetLemmatizer, PorterStemmer\n",
    "\n",
    "def CleanTheData(listOfDocs): \n",
    "    porter = PorterStemmer()\n",
    "    lemmatizer = WordNetLemmatizer()\n",
    "    \n",
    "    stop_words = set(stopwords.words('english'))\n",
    "  \n",
    "    resultDocs = []\n",
    "    words = set(nltk.corpus.words.words())\n",
    "    medicalWords = GetMedicalTerms(\"vocab.txt\")\n",
    "    medicalStopWords = GetMedicalTerms(\"clinical-stopwords.txt\")\n",
    "    \n",
    "    for doc in listOfDocs:\n",
    "        result = []\n",
    "        for word in doc.Information.split(' '):  \n",
    "            \n",
    "            if word in \"\" or len(word) <= 3 or word in stop_words or word not in medicalWords or word in medicalStopWords:\n",
    "                continue\n",
    "                \n",
    "            result.append(word)\n",
    "                \n",
    "        doc.Information = result\n",
    "    return listOfDocs"
   ]
  },
  {
   "cell_type": "markdown",
   "metadata": {},
   "source": [
    "# Create the corpus\n",
    "1. Create the dictionary with all words and word ids\n",
    "2. Create the bi,tri, and quadgrams if applicable\n",
    "3. remove extreme occurences of words"
   ]
  },
  {
   "cell_type": "code",
   "execution_count": 14,
   "metadata": {},
   "outputs": [],
   "source": [
    "from gensim.corpora.dictionary import Dictionary\n",
    "\n",
    "def ConvertDataToCorpus(cleaned_data):\n",
    "\n",
    "    dictionary = Dictionary(cleaned_data)\n",
    "    bigramMod, trigramMod = ngrams(cleaned_data)\n",
    "    \n",
    "    ngram =  [trigramMod[bigramMod[review]] for review in cleaned_data]\n",
    "       \n",
    "    id2word = gensim.corpora.Dictionary(ngram)\n",
    "    id2word.filter_extremes(no_below=10, no_above=0.90, keep_tokens=['covid', 'coronavirus','sarscov'])\n",
    "    \n",
    "    id2word.compactify()\n",
    "    \n",
    "    corpus = [id2word.doc2bow(text) for text in ngram]\n",
    "    \n",
    "    return corpus, id2word, dictionary"
   ]
  },
  {
   "cell_type": "markdown",
   "metadata": {},
   "source": [
    "# Get all the topics from the dynamic topic model\n",
    "1. Print the top 20 words"
   ]
  },
  {
   "cell_type": "code",
   "execution_count": 15,
   "metadata": {},
   "outputs": [],
   "source": [
    "def GetAllTopicsFromModel(dtm):\n",
    "    topics = dtm.print_topics(3)\n",
    "    #print(topics)\n",
    "    \n",
    "    for topic in topics:\n",
    "        print(\"word:\", topic[0]);"
   ]
  },
  {
   "cell_type": "markdown",
   "metadata": {},
   "source": [
    "# Get all qualifying topics generated from LDA model\n",
    "1. Get all topics from the LDA model\n",
    "2. Per each topic, check to see if the coherence score is greater than the lower bounce given\n",
    "3. Per word, check to see if the word or a related word exists in the current topic, if it does, do not add\n",
    "4. Per word, check to see if the probablity that the word is in the current topic is greater than the lower bound given\n",
    "5. Do not consider topics with only one qualifying word\n",
    "\n",
    "Notes: can read about coherence scores here: http://svn.aksw.org/papers/2015/WSDM_Topic_Evaluation/public.pdf\n",
    "https://stackoverflow.com/questions/54762690/coherence-score-0-4-is-good-or-bad \n",
    "https://datascienceplus.com/evaluation-of-topic-modeling-topic-coherence/\n",
    "https://levyomer.files.wordpress.com/2014/04/dependency-based-word-embeddings-acl-2014.pdf\n"
   ]
  },
  {
   "cell_type": "code",
   "execution_count": 16,
   "metadata": {},
   "outputs": [],
   "source": [
    "import datetime\n",
    "def GetInformation(minProbablity, startDate, endDate, path):\n",
    "    \n",
    "    print('Starting', datetime.datetime.now())\n",
    "    listOfpdfs= GetData(startDate, endDate,path)\n",
    "    \n",
    "    if len(listOfpdfs) == 0:\n",
    "        print(\"No PDFs found under this topic\")\n",
    "        exit\n",
    "        \n",
    "    print(len(listOfpdfs))\n",
    "    \n",
    "    print('Finished gathering data', datetime.datetime.now())\n",
    "    data = GetTextBodies(listOfpdfs, path)\n",
    "    data.sort(key=lambda x: x.Date, reverse=False)\n",
    "    print('Finished sorting data', datetime.datetime.now())\n",
    "    cleaned_data = CleanTheData(data)  \n",
    "    print('Finished cleaning data', datetime.datetime.now())  \n",
    "\n",
    "    justDoc = []\n",
    "    for datum in cleaned_data:\n",
    "        justDoc.append(datum.Information)\n",
    "        \n",
    "        \n",
    "    \n",
    "    corpus, id2word, dictionary = ConvertDataToCorpus(justDoc) \n",
    "    print('Finished converting data to corpus', datetime.datetime.now())  \n",
    "    \n",
    "    dtm = GetTopicModel(corpus,\n",
    "                      id2word, \n",
    "                      dictionary,\n",
    "                      numberOfTopics = 50,\n",
    "                      chunkSize=2000)  \n",
    "    print('Finished creating LDA model', datetime.datetime.now())  \n",
    "    \n",
    "    GetAllTopicsFromModel(dtm)\n",
    "    \n",
    "#    topics = GetTopicTerms(searchTerm,\n",
    "#                           lda = lda, \n",
    "#                           id2word = id2word,\n",
    "#                           cleaned_data=cleaned_data, \n",
    "#                           lowerEndCoherenceScore=0, \n",
    "#                           numberOfWords=30, \n",
    "#                           minimumprobablity= minProbablity,\n",
    "#                           windowSize= 15,\n",
    "#                           processes=10)\n",
    "    \n",
    "    print('Finished creating DTM model', datetime.datetime.now())  \n",
    "    \n",
    " #   PrintRuleAssociation(lda, \n",
    " #                        support=0.1,\n",
    " #                        confidence=0.8,\n",
    " #                        bow=topics, \n",
    " #                        lift = 1, \n",
    " #                        length = None)\n",
    " #   print('Finished', datetime.datetime.now()) \n",
    "\n"
   ]
  },
  {
   "cell_type": "code",
   "execution_count": 17,
   "metadata": {
    "scrolled": true
   },
   "outputs": [],
   "source": [
    "def PrintTopicsInTimeSlice(index, dtm, docsAsString):\n",
    "    dtmResults = dtm.print_topics(index,top_terms=10)  \n",
    "\n",
    "    dtmJustTheWords = []\n",
    "\n",
    "    for r in dtmResults:\n",
    "        words = {}\n",
    "        av = 0\n",
    "        for word in r:\n",
    "            #print(word)\n",
    "            if \"_\" in word[0]:\n",
    "                continue\n",
    "            \n",
    "            tfidf = GetWordTFIDFMeasure(word[0], docsAsString)\n",
    "            print(word[0], tfidf)\n",
    "            if tfidf is None:\n",
    "                continue\n",
    "            av += tfidf\n",
    "        print('average TF-IDF: ', av/10)\n",
    "        print('\\n')"
   ]
  },
  {
   "cell_type": "code",
   "execution_count": 18,
   "metadata": {},
   "outputs": [],
   "source": [
    "def GetRulesFromTFIDFClusters(start, end, cleaned_data):\n",
    "\n",
    "    docsAsString = []\n",
    "\n",
    "    for datum in cleaned_data:\n",
    "        if GetArticlesFromDateRange(start,end, datum.Date):\n",
    "            docsAsString.append(' '.join(str(info) for info in datum.Information))\n",
    "                \n",
    "    t = GetTopicsUsingTFIDFAndKMeansClustering(docsAsString, 20,10)\n",
    "    PrintRuleAssociation(support=0.175,\n",
    "                         confidence=0.9,\n",
    "                         bow=t, \n",
    "                         listOfDocs = docsAsString,\n",
    "                         lift = 1, \n",
    "                         length = None)"
   ]
  },
  {
   "cell_type": "markdown",
   "metadata": {
    "scrolled": true
   },
   "source": [
    "#first month = 2330\n",
    "#second month = 5992\n",
    "#third month = 9234\n",
    "#fourth month = 9486\n",
    "#fifth =  8986\n",
    "#sixth = 8470\n",
    "#7th = 9178\n",
    "#8th = 9325\n",
    "#9th = 8368\n",
    "#10th = 7284\n",
    "#11th = 8857\n",
    "#12th = 5059\n",
    "#Finished gathering data 2021-03-16 21:17:36.279353\n",
    "\n",
    "#Finished gathering data 2021-03-16 21:17:52.412954\n",
    "#Finished gathering data 2021-03-16 21:20:53.203475\n",
    "\n",
    "\n",
    "with stop word filter:\n",
    "Finished gathering data 2021-03-16 21:55:08.355088\n",
    "88349\n",
    "Finished gathering data 2021-03-16 21:55:24.637484\n",
    "Finished gathering data 2021-03-16 21:58:17.915549\n",
    "Finished cleaning data 2021-03-16 22:31:32.614923"
   ]
  },
  {
   "cell_type": "code",
   "execution_count": 68,
   "metadata": {
    "scrolled": true
   },
   "outputs": [
    {
     "name": "stdout",
     "output_type": "stream",
     "text": [
      "Starting 2021-06-06 19:39:58.634498\n",
      "2351\n",
      "Finished gathering data 2021-06-06 19:40:22.348383\n"
     ]
    }
   ],
   "source": [
    "startDate = datetime.date(2021, 1, 1)\n",
    "endDate = datetime.date(2021, 2, 1)\n",
    "path = '/Users/jessicaosekowsky/Downloads/2021-05-31/'\n",
    "\n",
    "print('Starting', datetime.datetime.now())\n",
    "listOfpdfs= GetData(startDate, endDate,path)\n",
    "    \n",
    "if len(listOfpdfs) == 0:\n",
    "    print(\"No PDFs found under this topic\")\n",
    "    exit\n",
    "        \n",
    "print(len(listOfpdfs))\n",
    "    \n",
    "print('Finished gathering data', datetime.datetime.now())\n"
   ]
  },
  {
   "cell_type": "code",
   "execution_count": 69,
   "metadata": {},
   "outputs": [
    {
     "name": "stdout",
     "output_type": "stream",
     "text": [
      "Finished sorting data 2021-06-06 19:40:22.356110\n",
      "Finished sorting data 2021-06-06 19:40:29.364120\n"
     ]
    }
   ],
   "source": [
    "print('Finished sorting data', datetime.datetime.now())\n",
    "data = GetTextBodies(listOfpdfs, path)\n",
    "data.sort(key=lambda x: x.Date, reverse=True)\n",
    "print('Finished sorting data', datetime.datetime.now())\n",
    "print(data[0])"
   ]
  },
  {
   "cell_type": "code",
   "execution_count": 70,
   "metadata": {},
   "outputs": [
    {
     "name": "stdout",
     "output_type": "stream",
     "text": [
      "Finished cleaning data 2021-06-06 19:40:29.371541\n"
     ]
    },
    {
     "ename": "KeyboardInterrupt",
     "evalue": "",
     "output_type": "error",
     "traceback": [
      "\u001b[0;31m---------------------------------------------------------------------------\u001b[0m",
      "\u001b[0;31mKeyboardInterrupt\u001b[0m                         Traceback (most recent call last)",
      "\u001b[0;32m<ipython-input-70-053e7007a81c>\u001b[0m in \u001b[0;36m<module>\u001b[0;34m\u001b[0m\n\u001b[1;32m      1\u001b[0m \u001b[0mprint\u001b[0m\u001b[0;34m(\u001b[0m\u001b[0;34m'Finished cleaning data'\u001b[0m\u001b[0;34m,\u001b[0m \u001b[0mdatetime\u001b[0m\u001b[0;34m.\u001b[0m\u001b[0mdatetime\u001b[0m\u001b[0;34m.\u001b[0m\u001b[0mnow\u001b[0m\u001b[0;34m(\u001b[0m\u001b[0;34m)\u001b[0m\u001b[0;34m)\u001b[0m\u001b[0;34m\u001b[0m\u001b[0;34m\u001b[0m\u001b[0m\n\u001b[0;32m----> 2\u001b[0;31m \u001b[0mcleaned_data\u001b[0m \u001b[0;34m=\u001b[0m \u001b[0mCleanTheData\u001b[0m\u001b[0;34m(\u001b[0m\u001b[0mdata\u001b[0m\u001b[0;34m)\u001b[0m\u001b[0;34m\u001b[0m\u001b[0;34m\u001b[0m\u001b[0m\n\u001b[0m\u001b[1;32m      3\u001b[0m \u001b[0mprint\u001b[0m\u001b[0;34m(\u001b[0m\u001b[0;34m'Finished cleaning data'\u001b[0m\u001b[0;34m,\u001b[0m \u001b[0mdatetime\u001b[0m\u001b[0;34m.\u001b[0m\u001b[0mdatetime\u001b[0m\u001b[0;34m.\u001b[0m\u001b[0mnow\u001b[0m\u001b[0;34m(\u001b[0m\u001b[0;34m)\u001b[0m\u001b[0;34m)\u001b[0m\u001b[0;34m\u001b[0m\u001b[0;34m\u001b[0m\u001b[0m\n",
      "\u001b[0;32m<ipython-input-13-ad094c95810a>\u001b[0m in \u001b[0;36mCleanTheData\u001b[0;34m(listOfDocs)\u001b[0m\n\u001b[1;32m     19\u001b[0m         \u001b[0;32mfor\u001b[0m \u001b[0mword\u001b[0m \u001b[0;32min\u001b[0m \u001b[0mdoc\u001b[0m\u001b[0;34m.\u001b[0m\u001b[0mInformation\u001b[0m\u001b[0;34m.\u001b[0m\u001b[0msplit\u001b[0m\u001b[0;34m(\u001b[0m\u001b[0;34m' '\u001b[0m\u001b[0;34m)\u001b[0m\u001b[0;34m:\u001b[0m\u001b[0;34m\u001b[0m\u001b[0;34m\u001b[0m\u001b[0m\n\u001b[1;32m     20\u001b[0m \u001b[0;34m\u001b[0m\u001b[0m\n\u001b[0;32m---> 21\u001b[0;31m             \u001b[0;32mif\u001b[0m \u001b[0mword\u001b[0m \u001b[0;32min\u001b[0m \u001b[0;34m\"\"\u001b[0m \u001b[0;32mor\u001b[0m \u001b[0mlen\u001b[0m\u001b[0;34m(\u001b[0m\u001b[0mword\u001b[0m\u001b[0;34m)\u001b[0m \u001b[0;34m<=\u001b[0m \u001b[0;36m3\u001b[0m \u001b[0;32mor\u001b[0m \u001b[0mword\u001b[0m \u001b[0;32min\u001b[0m \u001b[0mstop_words\u001b[0m \u001b[0;32mor\u001b[0m \u001b[0mword\u001b[0m \u001b[0;32mnot\u001b[0m \u001b[0;32min\u001b[0m \u001b[0mmedicalWords\u001b[0m \u001b[0;32mor\u001b[0m \u001b[0mword\u001b[0m \u001b[0;32min\u001b[0m \u001b[0mmedicalStopWords\u001b[0m\u001b[0;34m:\u001b[0m\u001b[0;34m\u001b[0m\u001b[0;34m\u001b[0m\u001b[0m\n\u001b[0m\u001b[1;32m     22\u001b[0m                 \u001b[0;32mcontinue\u001b[0m\u001b[0;34m\u001b[0m\u001b[0;34m\u001b[0m\u001b[0m\n\u001b[1;32m     23\u001b[0m \u001b[0;34m\u001b[0m\u001b[0m\n",
      "\u001b[0;31mKeyboardInterrupt\u001b[0m: "
     ]
    }
   ],
   "source": [
    "print('Finished cleaning data', datetime.datetime.now()) \n",
    "#cleaned_data = CleanTheData(data)  \n",
    "print('Finished cleaning data', datetime.datetime.now())  "
   ]
  },
  {
   "cell_type": "code",
   "execution_count": 73,
   "metadata": {},
   "outputs": [
    {
     "name": "stdout",
     "output_type": "stream",
     "text": [
      "<__main__.article object at 0x7fd4ebee5940>\n",
      "Finished converting data to corpus 2021-06-06 19:41:53.172143\n",
      "Finished converting data to corpus 2021-06-06 19:41:53.362207\n",
      "['original', 'investigation', 'characteristics', 'results', 'semen', 'tests', 'coronavirus', 'section', 'specify', 'method', 'severe', 'acute', 'respiratory', 'syndrome', 'coronavirus', 'semen', 'method', 'reverse', 'chain', 'assay', 'corrected']\n"
     ]
    }
   ],
   "source": [
    "\n",
    "print(data[2])\n",
    "\n",
    "\n",
    "print('Finished converting data to corpus', datetime.datetime.now())  \n",
    "justDoc = []\n",
    "docsAsString = []\n",
    "for datum in cleaned_data:\n",
    "    justDoc.append(datum.Information)\n",
    "    doc = ''\n",
    "    for info in datum.Information:\n",
    "        doc += info\n",
    "        doc += ' '\n",
    "        \n",
    "    justDoc.append(doc)\n",
    "    \n",
    "    \n",
    "    docsAsString.append(' '.join(datum.Information))\n",
    "          \n",
    "    \n",
    "#corpus, id2word, dictionary = ConvertDataToCorpus(justDoc) \n",
    "print('Finished converting data to corpus', datetime.datetime.now())  \n",
    "print(justDoc[2])\n",
    "    "
   ]
  },
  {
   "cell_type": "code",
   "execution_count": 8,
   "metadata": {
    "scrolled": true
   },
   "outputs": [
    {
     "ename": "NameError",
     "evalue": "name 'justDoc' is not defined",
     "output_type": "error",
     "traceback": [
      "\u001b[0;31m---------------------------------------------------------------------------\u001b[0m",
      "\u001b[0;31mNameError\u001b[0m                                 Traceback (most recent call last)",
      "\u001b[0;32m<ipython-input-8-08e6cd7b2b91>\u001b[0m in \u001b[0;36m<module>\u001b[0;34m\u001b[0m\n\u001b[1;32m      8\u001b[0m \u001b[0;34m\u001b[0m\u001b[0m\n\u001b[1;32m      9\u001b[0m \u001b[0mtfidf\u001b[0m \u001b[0;34m=\u001b[0m \u001b[0mTfidfVectorizer\u001b[0m\u001b[0;34m(\u001b[0m\u001b[0muse_idf\u001b[0m\u001b[0;34m=\u001b[0m\u001b[0;32mTrue\u001b[0m\u001b[0;34m)\u001b[0m\u001b[0;34m\u001b[0m\u001b[0;34m\u001b[0m\u001b[0m\n\u001b[0;32m---> 10\u001b[0;31m \u001b[0mtfidf\u001b[0m\u001b[0;34m.\u001b[0m\u001b[0mfit\u001b[0m\u001b[0;34m(\u001b[0m\u001b[0mjustDoc\u001b[0m\u001b[0;34m)\u001b[0m\u001b[0;34m\u001b[0m\u001b[0;34m\u001b[0m\u001b[0m\n\u001b[0m\u001b[1;32m     11\u001b[0m \u001b[0mtext\u001b[0m \u001b[0;34m=\u001b[0m \u001b[0mtfidf\u001b[0m\u001b[0;34m.\u001b[0m\u001b[0mtransform\u001b[0m\u001b[0;34m(\u001b[0m\u001b[0mjustDoc\u001b[0m\u001b[0;34m)\u001b[0m\u001b[0;34m\u001b[0m\u001b[0;34m\u001b[0m\u001b[0m\n\u001b[1;32m     12\u001b[0m \u001b[0mclusters\u001b[0m \u001b[0;34m=\u001b[0m \u001b[0mMiniBatchKMeans\u001b[0m\u001b[0;34m(\u001b[0m\u001b[0mn_clusters\u001b[0m\u001b[0;34m=\u001b[0m\u001b[0;36m10\u001b[0m\u001b[0;34m)\u001b[0m\u001b[0;34m.\u001b[0m\u001b[0mfit_predict\u001b[0m\u001b[0;34m(\u001b[0m\u001b[0mtext\u001b[0m\u001b[0;34m)\u001b[0m\u001b[0;34m\u001b[0m\u001b[0;34m\u001b[0m\u001b[0m\n",
      "\u001b[0;31mNameError\u001b[0m: name 'justDoc' is not defined"
     ]
    }
   ],
   "source": [
    "from sklearn.cluster import MiniBatchKMeans\n",
    "from sklearn.feature_extraction.text import TfidfVectorizer\n",
    "from sklearn.decomposition import PCA\n",
    "from sklearn.manifold import TSNE\n",
    "import numpy as np\n",
    "import pandas as pd\n",
    "import matplotlib.pyplot as plt\n",
    "\n",
    "tfidf = TfidfVectorizer(use_idf=True)\n",
    "tfidf.fit(justDoc)\n",
    "text = tfidf.transform(justDoc)\n",
    "clusters = MiniBatchKMeans(n_clusters=10).fit_predict(text)\n",
    "    \n",
    "df = pd.DataFrame(text.todense()).groupby(clusters).mean()\n",
    "\n",
    "#label = tfidf.get_feature_names()\n",
    "\n",
    "label = MiniBatchKMeans.fit_predict(df)\n",
    "    \n",
    "print(label)\n",
    " #   results = []\n",
    " #   for i,r in df.iterrows():\n",
    " #       topic = [labels[t] for t in np.argsort(r)[-topNumberOfTerms:]]\n",
    "        \n",
    "        #results.append(','.join([labels[t] for t in np.argsort(r)[-topNumberOfTerms:]]))\n",
    "    \n",
    " #       results.append(topic)\n",
    "    \n",
    " #   return results\n",
    "    \n",
    " \n",
    "    #filter rows of original data\n",
    "filtered_label0 = df[label == 1]\n",
    " \n",
    "    #plotting the results\n",
    "plt.scatter(filtered_label0[:,0] , filtered_label0[:,1])\n",
    "plt.show()"
   ]
  },
  {
   "cell_type": "code",
   "execution_count": 39,
   "metadata": {},
   "outputs": [
    {
     "ename": "TypeError",
     "evalue": "PCA does not support sparse input. See TruncatedSVD for a possible alternative.",
     "output_type": "error",
     "traceback": [
      "\u001b[0;31m---------------------------------------------------------------------------\u001b[0m",
      "\u001b[0;31mTypeError\u001b[0m                                 Traceback (most recent call last)",
      "\u001b[0;32m<ipython-input-39-dcb150f0707a>\u001b[0m in \u001b[0;36m<module>\u001b[0;34m\u001b[0m\n\u001b[1;32m     11\u001b[0m \u001b[0;34m\u001b[0m\u001b[0m\n\u001b[1;32m     12\u001b[0m \u001b[0;31m#Transform the data\u001b[0m\u001b[0;34m\u001b[0m\u001b[0;34m\u001b[0m\u001b[0;34m\u001b[0m\u001b[0m\n\u001b[0;32m---> 13\u001b[0;31m \u001b[0mdf\u001b[0m \u001b[0;34m=\u001b[0m \u001b[0mpca\u001b[0m\u001b[0;34m.\u001b[0m\u001b[0mfit_transform\u001b[0m\u001b[0;34m(\u001b[0m\u001b[0mtext\u001b[0m\u001b[0;34m)\u001b[0m\u001b[0;34m\u001b[0m\u001b[0;34m\u001b[0m\u001b[0m\n\u001b[0m\u001b[1;32m     14\u001b[0m \u001b[0;34m\u001b[0m\u001b[0m\n\u001b[1;32m     15\u001b[0m \u001b[0mdf\u001b[0m\u001b[0;34m.\u001b[0m\u001b[0mshape\u001b[0m\u001b[0;34m\u001b[0m\u001b[0;34m\u001b[0m\u001b[0m\n",
      "\u001b[0;32m~/opt/anaconda3/lib/python3.8/site-packages/sklearn/decomposition/_pca.py\u001b[0m in \u001b[0;36mfit_transform\u001b[0;34m(self, X, y)\u001b[0m\n\u001b[1;32m    374\u001b[0m         \u001b[0mC\u001b[0m\u001b[0;34m-\u001b[0m\u001b[0mordered\u001b[0m \u001b[0marray\u001b[0m\u001b[0;34m,\u001b[0m \u001b[0muse\u001b[0m \u001b[0;34m'np.ascontiguousarray'\u001b[0m\u001b[0;34m.\u001b[0m\u001b[0;34m\u001b[0m\u001b[0;34m\u001b[0m\u001b[0m\n\u001b[1;32m    375\u001b[0m         \"\"\"\n\u001b[0;32m--> 376\u001b[0;31m         \u001b[0mU\u001b[0m\u001b[0;34m,\u001b[0m \u001b[0mS\u001b[0m\u001b[0;34m,\u001b[0m \u001b[0mVt\u001b[0m \u001b[0;34m=\u001b[0m \u001b[0mself\u001b[0m\u001b[0;34m.\u001b[0m\u001b[0m_fit\u001b[0m\u001b[0;34m(\u001b[0m\u001b[0mX\u001b[0m\u001b[0;34m)\u001b[0m\u001b[0;34m\u001b[0m\u001b[0;34m\u001b[0m\u001b[0m\n\u001b[0m\u001b[1;32m    377\u001b[0m         \u001b[0mU\u001b[0m \u001b[0;34m=\u001b[0m \u001b[0mU\u001b[0m\u001b[0;34m[\u001b[0m\u001b[0;34m:\u001b[0m\u001b[0;34m,\u001b[0m \u001b[0;34m:\u001b[0m\u001b[0mself\u001b[0m\u001b[0;34m.\u001b[0m\u001b[0mn_components_\u001b[0m\u001b[0;34m]\u001b[0m\u001b[0;34m\u001b[0m\u001b[0;34m\u001b[0m\u001b[0m\n\u001b[1;32m    378\u001b[0m \u001b[0;34m\u001b[0m\u001b[0m\n",
      "\u001b[0;32m~/opt/anaconda3/lib/python3.8/site-packages/sklearn/decomposition/_pca.py\u001b[0m in \u001b[0;36m_fit\u001b[0;34m(self, X)\u001b[0m\n\u001b[1;32m    392\u001b[0m         \u001b[0;31m# This is more informative than the generic one raised by check_array.\u001b[0m\u001b[0;34m\u001b[0m\u001b[0;34m\u001b[0m\u001b[0;34m\u001b[0m\u001b[0m\n\u001b[1;32m    393\u001b[0m         \u001b[0;32mif\u001b[0m \u001b[0missparse\u001b[0m\u001b[0;34m(\u001b[0m\u001b[0mX\u001b[0m\u001b[0;34m)\u001b[0m\u001b[0;34m:\u001b[0m\u001b[0;34m\u001b[0m\u001b[0;34m\u001b[0m\u001b[0m\n\u001b[0;32m--> 394\u001b[0;31m             raise TypeError('PCA does not support sparse input. See '\n\u001b[0m\u001b[1;32m    395\u001b[0m                             'TruncatedSVD for a possible alternative.')\n\u001b[1;32m    396\u001b[0m \u001b[0;34m\u001b[0m\u001b[0m\n",
      "\u001b[0;31mTypeError\u001b[0m: PCA does not support sparse input. See TruncatedSVD for a possible alternative."
     ]
    }
   ],
   "source": []
  },
  {
   "cell_type": "code",
   "execution_count": 48,
   "metadata": {},
   "outputs": [
    {
     "name": "stdout",
     "output_type": "stream",
     "text": [
      "Loading 20 newsgroups dataset for categories:\n",
      "['alt.atheism', 'talk.religion.misc', 'comp.graphics', 'sci.space']\n"
     ]
    },
    {
     "ename": "AttributeError",
     "evalue": "'article' object has no attribute 'lower'",
     "output_type": "error",
     "traceback": [
      "\u001b[0;31m---------------------------------------------------------------------------\u001b[0m",
      "\u001b[0;31mAttributeError\u001b[0m                            Traceback (most recent call last)",
      "\u001b[0;32m<ipython-input-48-6ed864f81975>\u001b[0m in \u001b[0;36m<module>\u001b[0;34m\u001b[0m\n\u001b[1;32m     49\u001b[0m                                  \u001b[0mmin_df\u001b[0m\u001b[0;34m=\u001b[0m\u001b[0;36m2\u001b[0m\u001b[0;34m,\u001b[0m \u001b[0mstop_words\u001b[0m\u001b[0;34m=\u001b[0m\u001b[0;34m'english'\u001b[0m\u001b[0;34m,\u001b[0m\u001b[0;34m\u001b[0m\u001b[0;34m\u001b[0m\u001b[0m\n\u001b[1;32m     50\u001b[0m                                  use_idf=opts.use_idf)\n\u001b[0;32m---> 51\u001b[0;31m \u001b[0mX\u001b[0m \u001b[0;34m=\u001b[0m \u001b[0mvectorizer\u001b[0m\u001b[0;34m.\u001b[0m\u001b[0mfit_transform\u001b[0m\u001b[0;34m(\u001b[0m\u001b[0mdataset\u001b[0m\u001b[0;34m)\u001b[0m\u001b[0;34m\u001b[0m\u001b[0;34m\u001b[0m\u001b[0m\n\u001b[0m\u001b[1;32m     52\u001b[0m \u001b[0;34m\u001b[0m\u001b[0m\n\u001b[1;32m     53\u001b[0m \u001b[0mprint\u001b[0m\u001b[0;34m(\u001b[0m\u001b[0;34m\"done in %fs\"\u001b[0m \u001b[0;34m%\u001b[0m \u001b[0;34m(\u001b[0m\u001b[0mtime\u001b[0m\u001b[0;34m(\u001b[0m\u001b[0;34m)\u001b[0m \u001b[0;34m-\u001b[0m \u001b[0mt0\u001b[0m\u001b[0;34m)\u001b[0m\u001b[0;34m)\u001b[0m\u001b[0;34m\u001b[0m\u001b[0;34m\u001b[0m\u001b[0m\n",
      "\u001b[0;32m~/opt/anaconda3/lib/python3.8/site-packages/sklearn/feature_extraction/text.py\u001b[0m in \u001b[0;36mfit_transform\u001b[0;34m(self, raw_documents, y)\u001b[0m\n\u001b[1;32m   1848\u001b[0m         \"\"\"\n\u001b[1;32m   1849\u001b[0m         \u001b[0mself\u001b[0m\u001b[0;34m.\u001b[0m\u001b[0m_check_params\u001b[0m\u001b[0;34m(\u001b[0m\u001b[0;34m)\u001b[0m\u001b[0;34m\u001b[0m\u001b[0;34m\u001b[0m\u001b[0m\n\u001b[0;32m-> 1850\u001b[0;31m         \u001b[0mX\u001b[0m \u001b[0;34m=\u001b[0m \u001b[0msuper\u001b[0m\u001b[0;34m(\u001b[0m\u001b[0;34m)\u001b[0m\u001b[0;34m.\u001b[0m\u001b[0mfit_transform\u001b[0m\u001b[0;34m(\u001b[0m\u001b[0mraw_documents\u001b[0m\u001b[0;34m)\u001b[0m\u001b[0;34m\u001b[0m\u001b[0;34m\u001b[0m\u001b[0m\n\u001b[0m\u001b[1;32m   1851\u001b[0m         \u001b[0mself\u001b[0m\u001b[0;34m.\u001b[0m\u001b[0m_tfidf\u001b[0m\u001b[0;34m.\u001b[0m\u001b[0mfit\u001b[0m\u001b[0;34m(\u001b[0m\u001b[0mX\u001b[0m\u001b[0;34m)\u001b[0m\u001b[0;34m\u001b[0m\u001b[0;34m\u001b[0m\u001b[0m\n\u001b[1;32m   1852\u001b[0m         \u001b[0;31m# X is already a transformed view of raw_documents so\u001b[0m\u001b[0;34m\u001b[0m\u001b[0;34m\u001b[0m\u001b[0;34m\u001b[0m\u001b[0m\n",
      "\u001b[0;32m~/opt/anaconda3/lib/python3.8/site-packages/sklearn/feature_extraction/text.py\u001b[0m in \u001b[0;36mfit_transform\u001b[0;34m(self, raw_documents, y)\u001b[0m\n\u001b[1;32m   1201\u001b[0m         \u001b[0mmax_features\u001b[0m \u001b[0;34m=\u001b[0m \u001b[0mself\u001b[0m\u001b[0;34m.\u001b[0m\u001b[0mmax_features\u001b[0m\u001b[0;34m\u001b[0m\u001b[0;34m\u001b[0m\u001b[0m\n\u001b[1;32m   1202\u001b[0m \u001b[0;34m\u001b[0m\u001b[0m\n\u001b[0;32m-> 1203\u001b[0;31m         vocabulary, X = self._count_vocab(raw_documents,\n\u001b[0m\u001b[1;32m   1204\u001b[0m                                           self.fixed_vocabulary_)\n\u001b[1;32m   1205\u001b[0m \u001b[0;34m\u001b[0m\u001b[0m\n",
      "\u001b[0;32m~/opt/anaconda3/lib/python3.8/site-packages/sklearn/feature_extraction/text.py\u001b[0m in \u001b[0;36m_count_vocab\u001b[0;34m(self, raw_documents, fixed_vocab)\u001b[0m\n\u001b[1;32m   1113\u001b[0m         \u001b[0;32mfor\u001b[0m \u001b[0mdoc\u001b[0m \u001b[0;32min\u001b[0m \u001b[0mraw_documents\u001b[0m\u001b[0;34m:\u001b[0m\u001b[0;34m\u001b[0m\u001b[0;34m\u001b[0m\u001b[0m\n\u001b[1;32m   1114\u001b[0m             \u001b[0mfeature_counter\u001b[0m \u001b[0;34m=\u001b[0m \u001b[0;34m{\u001b[0m\u001b[0;34m}\u001b[0m\u001b[0;34m\u001b[0m\u001b[0;34m\u001b[0m\u001b[0m\n\u001b[0;32m-> 1115\u001b[0;31m             \u001b[0;32mfor\u001b[0m \u001b[0mfeature\u001b[0m \u001b[0;32min\u001b[0m \u001b[0manalyze\u001b[0m\u001b[0;34m(\u001b[0m\u001b[0mdoc\u001b[0m\u001b[0;34m)\u001b[0m\u001b[0;34m:\u001b[0m\u001b[0;34m\u001b[0m\u001b[0;34m\u001b[0m\u001b[0m\n\u001b[0m\u001b[1;32m   1116\u001b[0m                 \u001b[0;32mtry\u001b[0m\u001b[0;34m:\u001b[0m\u001b[0;34m\u001b[0m\u001b[0;34m\u001b[0m\u001b[0m\n\u001b[1;32m   1117\u001b[0m                     \u001b[0mfeature_idx\u001b[0m \u001b[0;34m=\u001b[0m \u001b[0mvocabulary\u001b[0m\u001b[0;34m[\u001b[0m\u001b[0mfeature\u001b[0m\u001b[0;34m]\u001b[0m\u001b[0;34m\u001b[0m\u001b[0;34m\u001b[0m\u001b[0m\n",
      "\u001b[0;32m~/opt/anaconda3/lib/python3.8/site-packages/sklearn/feature_extraction/text.py\u001b[0m in \u001b[0;36m_analyze\u001b[0;34m(doc, analyzer, tokenizer, ngrams, preprocessor, decoder, stop_words)\u001b[0m\n\u001b[1;32m    102\u001b[0m     \u001b[0;32melse\u001b[0m\u001b[0;34m:\u001b[0m\u001b[0;34m\u001b[0m\u001b[0;34m\u001b[0m\u001b[0m\n\u001b[1;32m    103\u001b[0m         \u001b[0;32mif\u001b[0m \u001b[0mpreprocessor\u001b[0m \u001b[0;32mis\u001b[0m \u001b[0;32mnot\u001b[0m \u001b[0;32mNone\u001b[0m\u001b[0;34m:\u001b[0m\u001b[0;34m\u001b[0m\u001b[0;34m\u001b[0m\u001b[0m\n\u001b[0;32m--> 104\u001b[0;31m             \u001b[0mdoc\u001b[0m \u001b[0;34m=\u001b[0m \u001b[0mpreprocessor\u001b[0m\u001b[0;34m(\u001b[0m\u001b[0mdoc\u001b[0m\u001b[0;34m)\u001b[0m\u001b[0;34m\u001b[0m\u001b[0;34m\u001b[0m\u001b[0m\n\u001b[0m\u001b[1;32m    105\u001b[0m         \u001b[0;32mif\u001b[0m \u001b[0mtokenizer\u001b[0m \u001b[0;32mis\u001b[0m \u001b[0;32mnot\u001b[0m \u001b[0;32mNone\u001b[0m\u001b[0;34m:\u001b[0m\u001b[0;34m\u001b[0m\u001b[0;34m\u001b[0m\u001b[0m\n\u001b[1;32m    106\u001b[0m             \u001b[0mdoc\u001b[0m \u001b[0;34m=\u001b[0m \u001b[0mtokenizer\u001b[0m\u001b[0;34m(\u001b[0m\u001b[0mdoc\u001b[0m\u001b[0;34m)\u001b[0m\u001b[0;34m\u001b[0m\u001b[0;34m\u001b[0m\u001b[0m\n",
      "\u001b[0;32m~/opt/anaconda3/lib/python3.8/site-packages/sklearn/feature_extraction/text.py\u001b[0m in \u001b[0;36m_preprocess\u001b[0;34m(doc, accent_function, lower)\u001b[0m\n\u001b[1;32m     67\u001b[0m     \"\"\"\n\u001b[1;32m     68\u001b[0m     \u001b[0;32mif\u001b[0m \u001b[0mlower\u001b[0m\u001b[0;34m:\u001b[0m\u001b[0;34m\u001b[0m\u001b[0;34m\u001b[0m\u001b[0m\n\u001b[0;32m---> 69\u001b[0;31m         \u001b[0mdoc\u001b[0m \u001b[0;34m=\u001b[0m \u001b[0mdoc\u001b[0m\u001b[0;34m.\u001b[0m\u001b[0mlower\u001b[0m\u001b[0;34m(\u001b[0m\u001b[0;34m)\u001b[0m\u001b[0;34m\u001b[0m\u001b[0;34m\u001b[0m\u001b[0m\n\u001b[0m\u001b[1;32m     70\u001b[0m     \u001b[0;32mif\u001b[0m \u001b[0maccent_function\u001b[0m \u001b[0;32mis\u001b[0m \u001b[0;32mnot\u001b[0m \u001b[0;32mNone\u001b[0m\u001b[0;34m:\u001b[0m\u001b[0;34m\u001b[0m\u001b[0;34m\u001b[0m\u001b[0m\n\u001b[1;32m     71\u001b[0m         \u001b[0mdoc\u001b[0m \u001b[0;34m=\u001b[0m \u001b[0maccent_function\u001b[0m\u001b[0;34m(\u001b[0m\u001b[0mdoc\u001b[0m\u001b[0;34m)\u001b[0m\u001b[0;34m\u001b[0m\u001b[0;34m\u001b[0m\u001b[0m\n",
      "\u001b[0;31mAttributeError\u001b[0m: 'article' object has no attribute 'lower'"
     ]
    }
   ],
   "source": [
    "from sklearn.datasets import fetch_20newsgroups\n",
    "from sklearn.decomposition import TruncatedSVD\n",
    "from sklearn.feature_extraction.text import TfidfVectorizer\n",
    "from sklearn.feature_extraction.text import HashingVectorizer\n",
    "from sklearn.feature_extraction.text import TfidfTransformer\n",
    "from sklearn.pipeline import make_pipeline\n",
    "from sklearn.preprocessing import Normalizer\n",
    "from sklearn import metrics\n",
    "\n",
    "from sklearn.cluster import KMeans, MiniBatchKMeans\n",
    "\n",
    "import logging\n",
    "from optparse import OptionParser\n",
    "import sys\n",
    "from time import time\n",
    "\n",
    "import numpy as np\n",
    "\n",
    "# #############################################################################\n",
    "# Load some categories from the training set\n",
    "categories = [\n",
    "    'alt.atheism',\n",
    "    'talk.religion.misc',\n",
    "    'comp.graphics',\n",
    "    'sci.space',\n",
    "]\n",
    "# Uncomment the following to do the analysis on all the categories\n",
    "# categories = None\n",
    "\n",
    "print(\"Loading 20 newsgroups dataset for categories:\")\n",
    "print(categories)\n",
    "\n",
    "dataset = data#fetch_20newsgroups(subset='all', categories=categories,\n",
    "\n",
    "t0 = time()\n",
    "if opts.use_hashing:\n",
    "    if opts.use_idf:\n",
    "        # Perform an IDF normalization on the output of HashingVectorizer\n",
    "        hasher = HashingVectorizer(n_features=opts.n_features,\n",
    "                                   stop_words='english', alternate_sign=False,\n",
    "                                   norm=None)\n",
    "        vectorizer = make_pipeline(hasher, TfidfTransformer())\n",
    "    else:\n",
    "        vectorizer = HashingVectorizer(n_features=opts.n_features,\n",
    "                                       stop_words='english',\n",
    "                                       alternate_sign=False, norm='l2')\n",
    "else:\n",
    "    vectorizer = TfidfVectorizer(max_df=0.5, max_features=opts.n_features,\n",
    "                                 min_df=2, stop_words='english',\n",
    "                                 use_idf=opts.use_idf)\n",
    "X = vectorizer.fit_transform(dataset)\n",
    "\n",
    "print(\"done in %fs\" % (time() - t0))\n",
    "print(\"n_samples: %d, n_features: %d\" % X.shape)\n",
    "print()\n",
    "\n",
    "if opts.n_components:\n",
    "    print(\"Performing dimensionality reduction using LSA\")\n",
    "    t0 = time()\n",
    "    # Vectorizer results are normalized, which makes KMeans behave as\n",
    "    # spherical k-means for better results. Since LSA/SVD results are\n",
    "    # not normalized, we have to redo the normalization.\n",
    "    svd = TruncatedSVD(opts.n_components)\n",
    "    normalizer = Normalizer(copy=False)\n",
    "    lsa = make_pipeline(svd, normalizer)\n",
    "\n",
    "    X = lsa.fit_transform(X)\n",
    "\n",
    "    print(\"done in %fs\" % (time() - t0))\n",
    "\n",
    "    explained_variance = svd.explained_variance_ratio_.sum()\n",
    "    print(\"Explained variance of the SVD step: {}%\".format(\n",
    "        int(explained_variance * 100)))\n",
    "\n",
    "    print()\n",
    "\n",
    "\n",
    "# #############################################################################\n",
    "# Do the actual clustering\n",
    "\n",
    "if opts.minibatch:\n",
    "    km = MiniBatchKMeans(n_clusters=true_k, init='k-means++', n_init=1,\n",
    "                         init_size=1000, batch_size=1000, verbose=opts.verbose)\n",
    "else:\n",
    "    km = KMeans(n_clusters=true_k, init='k-means++', max_iter=100, n_init=1,\n",
    "                verbose=opts.verbose)\n",
    "\n",
    "print(\"Clustering sparse data with %s\" % km)\n",
    "t0 = time()\n",
    "km.fit(X)\n",
    "print(\"done in %0.3fs\" % (time() - t0))\n",
    "print()\n",
    "\n",
    "print(\"Homogeneity: %0.3f\" % metrics.homogeneity_score(labels, km.labels_))\n",
    "print(\"Completeness: %0.3f\" % metrics.completeness_score(labels, km.labels_))\n",
    "print(\"V-measure: %0.3f\" % metrics.v_measure_score(labels, km.labels_))\n",
    "print(\"Adjusted Rand-Index: %.3f\"\n",
    "      % metrics.adjusted_rand_score(labels, km.labels_))\n",
    "print(\"Silhouette Coefficient: %0.3f\"\n",
    "      % metrics.silhouette_score(X, km.labels_, sample_size=1000))\n",
    "\n",
    "print()\n",
    "\n",
    "\n",
    "if not opts.use_hashing:\n",
    "    print(\"Top terms per cluster:\")\n",
    "\n",
    "    if opts.n_components:\n",
    "        original_space_centroids = svd.inverse_transform(km.cluster_centers_)\n",
    "        order_centroids = original_space_centroids.argsort()[:, ::-1]\n",
    "    else:\n",
    "        order_centroids = km.cluster_centers_.argsort()[:, ::-1]\n",
    "\n",
    "    terms = vectorizer.get_feature_names()\n",
    "    for i in range(true_k):\n",
    "        print(\"Cluster %d:\" % i, end='')\n",
    "        for ind in order_centroids[i, :10]:\n",
    "            print(' %s' % terms[ind], end='')\n",
    "        print()\n"
   ]
  },
  {
   "cell_type": "code",
   "execution_count": null,
   "metadata": {
    "scrolled": false
   },
   "outputs": [],
   "source": []
  },
  {
   "cell_type": "code",
   "execution_count": null,
   "metadata": {},
   "outputs": [],
   "source": []
  },
  {
   "cell_type": "code",
   "execution_count": null,
   "metadata": {},
   "outputs": [],
   "source": []
  },
  {
   "cell_type": "code",
   "execution_count": null,
   "metadata": {},
   "outputs": [],
   "source": []
  },
  {
   "cell_type": "code",
   "execution_count": null,
   "metadata": {},
   "outputs": [],
   "source": []
  },
  {
   "cell_type": "code",
   "execution_count": null,
   "metadata": {},
   "outputs": [],
   "source": []
  },
  {
   "cell_type": "code",
   "execution_count": null,
   "metadata": {},
   "outputs": [],
   "source": []
  },
  {
   "cell_type": "code",
   "execution_count": null,
   "metadata": {},
   "outputs": [],
   "source": []
  },
  {
   "cell_type": "code",
   "execution_count": null,
   "metadata": {},
   "outputs": [],
   "source": []
  },
  {
   "cell_type": "code",
   "execution_count": null,
   "metadata": {},
   "outputs": [],
   "source": []
  },
  {
   "cell_type": "code",
   "execution_count": null,
   "metadata": {},
   "outputs": [],
   "source": []
  },
  {
   "cell_type": "code",
   "execution_count": null,
   "metadata": {
    "scrolled": true
   },
   "outputs": [],
   "source": []
  },
  {
   "cell_type": "code",
   "execution_count": null,
   "metadata": {},
   "outputs": [],
   "source": []
  },
  {
   "cell_type": "code",
   "execution_count": null,
   "metadata": {},
   "outputs": [],
   "source": []
  },
  {
   "cell_type": "code",
   "execution_count": null,
   "metadata": {},
   "outputs": [],
   "source": []
  },
  {
   "cell_type": "code",
   "execution_count": null,
   "metadata": {},
   "outputs": [],
   "source": []
  },
  {
   "cell_type": "code",
   "execution_count": null,
   "metadata": {},
   "outputs": [],
   "source": []
  },
  {
   "cell_type": "code",
   "execution_count": null,
   "metadata": {},
   "outputs": [],
   "source": []
  },
  {
   "cell_type": "code",
   "execution_count": null,
   "metadata": {},
   "outputs": [],
   "source": []
  },
  {
   "cell_type": "code",
   "execution_count": null,
   "metadata": {},
   "outputs": [],
   "source": []
  },
  {
   "cell_type": "code",
   "execution_count": null,
   "metadata": {},
   "outputs": [],
   "source": []
  },
  {
   "cell_type": "code",
   "execution_count": null,
   "metadata": {},
   "outputs": [],
   "source": []
  },
  {
   "cell_type": "code",
   "execution_count": null,
   "metadata": {},
   "outputs": [],
   "source": []
  },
  {
   "cell_type": "code",
   "execution_count": null,
   "metadata": {
    "scrolled": false
   },
   "outputs": [],
   "source": []
  },
  {
   "cell_type": "code",
   "execution_count": null,
   "metadata": {},
   "outputs": [],
   "source": []
  },
  {
   "cell_type": "code",
   "execution_count": null,
   "metadata": {},
   "outputs": [],
   "source": []
  },
  {
   "cell_type": "code",
   "execution_count": null,
   "metadata": {},
   "outputs": [],
   "source": []
  },
  {
   "cell_type": "code",
   "execution_count": null,
   "metadata": {},
   "outputs": [],
   "source": [
    "\n",
    "   "
   ]
  },
  {
   "cell_type": "code",
   "execution_count": null,
   "metadata": {},
   "outputs": [],
   "source": [
    " "
   ]
  },
  {
   "cell_type": "code",
   "execution_count": null,
   "metadata": {},
   "outputs": [],
   "source": [
    "#pip install -U gensim"
   ]
  },
  {
   "cell_type": "code",
   "execution_count": null,
   "metadata": {},
   "outputs": [],
   "source": [
    "#pip install python-Levenshtein"
   ]
  },
  {
   "cell_type": "code",
   "execution_count": null,
   "metadata": {},
   "outputs": [],
   "source": [
    "#pip install apyori"
   ]
  },
  {
   "cell_type": "code",
   "execution_count": null,
   "metadata": {},
   "outputs": [],
   "source": [
    "#import nltk\n",
    "#nltk.download()"
   ]
  },
  {
   "cell_type": "code",
   "execution_count": 9,
   "metadata": {},
   "outputs": [],
   "source": [
    "import csv\n",
    "import os\n",
    "import json\n",
    "from collections import defaultdict\n",
    "\n",
    "cord_uid_to_text = defaultdict(list)\n",
    "\n",
    "# open the file\n",
    "\n",
    "\n",
    "counter = 0\n",
    "with open('metadata.csv') as f_in:\n",
    "    reader = csv.DictReader(f_in)\n",
    "    for row in reader:\n",
    "        if counter > 20:\n",
    "            break\n",
    "        # access some metadata\n",
    "        cord_uid = row['cord_uid']\n",
    "        title = row['title']\n",
    "        abstract = row['abstract']\n",
    "        authors = row['authors'].split('; ')\n",
    "\n",
    "        # access the full text (if available) for Intro\n",
    "        introduction = []\n",
    "        if row['pdf_json_files']:\n",
    "            for json_path in row['pdf_json_files'].split('; '):\n",
    "                with open(json_path) as f_json:\n",
    "                    full_text_dict = json.load(f_json)\n",
    "                    \n",
    "                    # grab introduction section from *some* version of the full text\n",
    "                    for paragraph_dict in full_text_dict['body_text']:\n",
    "                        paragraph_text = paragraph_dict['text']\n",
    "                        section_name = paragraph_dict['section']\n",
    "                        if 'intro' in section_name.lower():\n",
    "                            introduction.append(paragraph_text)\n",
    "\n",
    "                    # stop searching other copies of full text if already got introduction\n",
    "                    if introduction:\n",
    "                        break\n",
    "        counter = counter + 1\n",
    "\n",
    "        # save for later usage\n",
    "        cord_uid_to_text[cord_uid].append(introduction)"
   ]
  },
  {
   "cell_type": "code",
   "execution_count": 28,
   "metadata": {},
   "outputs": [
    {
     "name": "stdout",
     "output_type": "stream",
     "text": [
      "Mycoplasma pneumoniae is a common cause of upper and lower respiratory tract infections. It remains one of the most frequent causes of atypical pneumonia particu-larly among young adults. [1, 2, 3, 4, 5] Although it is highly transmissible, most infections caused by this organism are relatively minor and include pharyngitis, tracheobronchitis, bronchiolitis, and croup with one fifth of in-fections being asymptomatic. [6, 7] Only 3 -10% of infected subjects develop symptoms consistent with bronchopneumonia and mortality from infection is rare. [6, 7] The organism is fastidious and difficult to grow on cultures. Therefore, diagnosis of infections caused by this organism is usually confirmed with serological tests or polymerase chain reaction-gene amplification techniques. At King Abdulaziz University Hospital (KAUH), Jeddah, Saudi Arabia, the facility to perform Mycoplasma culture has been available since January 1997. As published information concerning M. pneumoniae infections in Saudi Arabia is scarce, [8, 9, 10] we wished to study the epidemiology and clinical features of cultureproven infections caused by this organism at this hospital.\n",
      "Since its discovery as a biological messenger molecule more than 10 years ago, the gaseous molecule nitric oxide (NO • ) is now well recognized for its involvement in diverse biological processes, including vasodilation, bronchodilation, neurotransmission, tumor surveillance, antimicrobial defense and regulation of inflammatory-immune processes [1] [2] [3] . In the respiratory tract, NO • is generated enzymically by three distinct isoforms of NO • synthase (NOS-1, NOS-2 and NOS-3) that are present to different extents in numerous cell types, including airway and alveolar epithelial cells, neuronal cells, macrophages, neutrophils, mast cells, and endothelial and smoothmuscle cells. In contrast with the other two NOS isoforms (NOS-1 and NOS-3), which are expressed constitutively and activated by mediator-induced or stress-induced cell activation, NOS-2 activity is primarily regulated transcriptionally and is commonly induced by bacterial products and pro-inflammatory cytokines. As such, inflammatory diseases of the respiratory tract, such as asthma, acute respiratory distress syndrome (ARDS) and bronchiectasis, are commonly characterized by an increased expression of NOS-2 within respiratory epithelial and inflammatory-immune cells, and a markedly elevated local production of NO • , presumably as an additional host defense mechanism against bacterial or viral infections. The drawback of such excessive NO • production is its accelerated metabolism to a family of potentially harmful reactive nitrogen species (RNS), including peroxynitrite (ONOO -) and nitrogen dioxide (NO 2 • ), especially in the presence of phagocyte-generated oxidants. The formation of such RNS is thought to be the prime reason why NO • can in many cases contribute to the etiology of inflammatory lung disease [4] [5] [6] . Despite extensive research into both pro-inflammatory and anti-inflammatory actions of NO • , the overall contribution of NO • to inflammatory conditions of the lung is not easily predicted and seems to depend on many factors, such as the site, time and degree of NO • production in relation to the local redox status, and the acute or chronic nature of the immune response. In addition, our current understanding of the pro-inflammatory or pro-injurious mechanisms of NO • or related RNS is incomplete; this commentary will focus primarily on these latter aspects.\n",
      "Surfactant protein-D (SP-D) is a member of the collagenous subfamily of calcium-dependent lectins (collectins) that includes pulmonary surfactant protein A (SP-A) and the serum mannose-binding lectin [1] [2] [3] . Collectins inter-act with a wide variety of microorganisms, lipids, and organic particulate antigens, and can modulate the function of immune effector cells and their responses to these ligands. This article reviews what is currently known about the sites of production, structure, function, and regulated expression of SP-D. Emphasis will be placed on functional attributes, known ligand interactions, and structure-function relationships believed to be important for host defense. For additional information on SP-A and other members of the collectin family, the reader is referred to other recent reviews [4] [5] [6] .\n",
      "RSV and PVM are viruses of the family Paramyxoviridae, subfamily pneumovirus; they are enveloped, singlestranded, nonsegmented RNA viruses that can cause intense viral bronchiolitis in humans and mice, respectively. In its most severe form, the lower respiratory tract infection caused by pneumoviruses is associated with the development of peribronchiolar infiltrates that are accompanied by submucosal edema and bronchorrhea, and ultimately leads to bronchiolar obstruction and compromised oxygen transfer. As the infection is confined to the respiratory epithelium, the responses of these cells are clearly of primary importance in determining the nature and extent of the resulting inflammatory process.\n",
      "RSV and PVM are viruses of the family Paramyxoviridae, subfamily pneumovirus; they are enveloped, singlestranded, nonsegmented RNA viruses that can cause intense viral bronchiolitis in humans and mice, respectively. In its most severe form, the lower respiratory tract infection caused by pneumoviruses is associated with the development of peribronchiolar infiltrates that are accompanied by submucosal edema and bronchorrhea, and ultimately leads to bronchiolar obstruction and compromised oxygen transfer. As the infection is confined to the respiratory epithelium, the responses of these cells are clearly of primary importance in determining the nature and extent of the resulting inflammatory process.\n",
      "The genetic information of RNA viruses is organized very ef®ciently. Practically every nucleotide of their genome is utilized, either as protein-coding sequence or as cis-acting signals for translation, RNA synthesis or RNA encapsidation. As part of their genome expression strategy, several groups of positive-strand RNA (+RNA) viruses produce subgenomic (sg) mRNAs (reviewed by Miller and Koev, 2000) . The replication of their genomic RNA, which is also the mRNA for the viral replicase, is supplemented with the generation of sg transcripts to express structural and auxiliary proteins, which are encoded downstream of the replicase gene in the genome. Sg mRNAs of +RNA viruses are always 3¢-co-terminal with the genomic RNA, but different mechanisms are used for their synthesis.\n",
      "The genetic information of RNA viruses is organized very ef®ciently. Practically every nucleotide of their genome is utilized, either as protein-coding sequence or as cis-acting signals for translation, RNA synthesis or RNA encapsidation. As part of their genome expression strategy, several groups of positive-strand RNA (+RNA) viruses produce subgenomic (sg) mRNAs (reviewed by Miller and Koev, 2000) . The replication of their genomic RNA, which is also the mRNA for the viral replicase, is supplemented with the generation of sg transcripts to express structural and auxiliary proteins, which are encoded downstream of the replicase gene in the genome. Sg mRNAs of +RNA viruses are always 3¢-co-terminal with the genomic RNA, but different mechanisms are used for their synthesis.\n",
      "The genetic information of RNA viruses is organized very ef®ciently. Practically every nucleotide of their genome is utilized, either as protein-coding sequence or as cis-acting signals for translation, RNA synthesis or RNA encapsidation. As part of their genome expression strategy, several groups of positive-strand RNA (+RNA) viruses produce subgenomic (sg) mRNAs (reviewed by Miller and Koev, 2000) . The replication of their genomic RNA, which is also the mRNA for the viral replicase, is supplemented with the generation of sg transcripts to express structural and auxiliary proteins, which are encoded downstream of the replicase gene in the genome. Sg mRNAs of +RNA viruses are always 3¢-co-terminal with the genomic RNA, but different mechanisms are used for their synthesis.\n",
      "The genetic information of RNA viruses is organized very ef®ciently. Practically every nucleotide of their genome is utilized, either as protein-coding sequence or as cis-acting signals for translation, RNA synthesis or RNA encapsidation. As part of their genome expression strategy, several groups of positive-strand RNA (+RNA) viruses produce subgenomic (sg) mRNAs (reviewed by Miller and Koev, 2000) . The replication of their genomic RNA, which is also the mRNA for the viral replicase, is supplemented with the generation of sg transcripts to express structural and auxiliary proteins, which are encoded downstream of the replicase gene in the genome. Sg mRNAs of +RNA viruses are always 3¢-co-terminal with the genomic RNA, but different mechanisms are used for their synthesis.\n",
      "The genetic information of RNA viruses is organized very ef®ciently. Practically every nucleotide of their genome is utilized, either as protein-coding sequence or as cis-acting signals for translation, RNA synthesis or RNA encapsidation. As part of their genome expression strategy, several groups of positive-strand RNA (+RNA) viruses produce subgenomic (sg) mRNAs (reviewed by Miller and Koev, 2000) . The replication of their genomic RNA, which is also the mRNA for the viral replicase, is supplemented with the generation of sg transcripts to express structural and auxiliary proteins, which are encoded downstream of the replicase gene in the genome. Sg mRNAs of +RNA viruses are always 3¢-co-terminal with the genomic RNA, but different mechanisms are used for their synthesis.\n",
      "Anaemia is a common condition in critically ill patients, and RBC transfusions are often used in the treatment and management of this patient population. In fact, one study [1] reported that 25% of all critically ill patients received RBC transfusions. Many laboratory studies [2] [3] [4] [5] [6] [7] [8] have examined the physiological responses (ie compensatory mechanisms) of the body to anaemia, which include the following [9] : increased cardiac output, decreased blood viscosity, capillary changes, increased oxygen extraction, and other tissue adaptations to meet oxygen requirements. Although critically ill patients are affected by a number of factors that predispose them to the adverse consequences of anaemia, persistence of this condition is of particular concern because it may cause the compensatory mechanisms in these patients to become impaired, risking oxygen deprivation in vital organs [9] . However, critically ill patients may also be at increased risk from the adverse effects of RBC transfusions, such as pulmonary oedema from volume overload, immune suppression resulting in increased risk of infection, and microcirculatory injury from poorly deformable RBCs.\n",
      "Anaemia is a common condition in critically ill patients, and RBC transfusions are often used in the treatment and management of this patient population. In fact, one study [1] reported that 25% of all critically ill patients received RBC transfusions. Many laboratory studies [2] [3] [4] [5] [6] [7] [8] have examined the physiological responses (ie compensatory mechanisms) of the body to anaemia, which include the following [9] : increased cardiac output, decreased blood viscosity, capillary changes, increased oxygen extraction, and other tissue adaptations to meet oxygen requirements. Although critically ill patients are affected by a number of factors that predispose them to the adverse consequences of anaemia, persistence of this condition is of particular concern because it may cause the compensatory mechanisms in these patients to become impaired, risking oxygen deprivation in vital organs [9] . However, critically ill patients may also be at increased risk from the adverse effects of RBC transfusions, such as pulmonary oedema from volume overload, immune suppression resulting in increased risk of infection, and microcirculatory injury from poorly deformable RBCs.\n",
      "This year's symposium was dominated by the results of recent clinical trials. After 10 years of 'magic bullet' trials in sepsis, a number of successful therapeutic options are now emerging. In addition, recent advances in our understanding of the soup of mediators observed in sepsis offer yet more tantalizing targets for new therapies.\n",
      "This year's symposium was dominated by the results of recent clinical trials. After 10 years of 'magic bullet' trials in sepsis, a number of successful therapeutic options are now emerging. In addition, recent advances in our understanding of the soup of mediators observed in sepsis offer yet more tantalizing targets for new therapies.\n",
      "This year's symposium was dominated by the results of recent clinical trials. After 10 years of 'magic bullet' trials in sepsis, a number of successful therapeutic options are now emerging. In addition, recent advances in our understanding of the soup of mediators observed in sepsis offer yet more tantalizing targets for new therapies.\n",
      "The heme oxygenase-1/carbon monoxide (HO-1/CO) system has recently seen an explosion of research interest due to its newly discovered physiological effects. This metabolic pathway, first characterized by Tenhunen et al. [1, 2] , has only recently revealed its surprising cytoprotective properties [3, 4] . Research in HO-1/CO now embraces the entire field of medicine where reactive oxygen/nitrogen species, inflammation, growth control, and apoptosis represent important pathophysiological mechanisms [3] [4] [5] [6] . Indeed, the number of publications in recent years concerning HO-1 has increased exponentially, while the list of diseases and physiological responses associated with changes in HO-1 continues to expand [5] .\n",
      "The heme oxygenase-1/carbon monoxide (HO-1/CO) system has recently seen an explosion of research interest due to its newly discovered physiological effects. This metabolic pathway, first characterized by Tenhunen et al. [1, 2] , has only recently revealed its surprising cytoprotective properties [3, 4] . Research in HO-1/CO now embraces the entire field of medicine where reactive oxygen/nitrogen species, inflammation, growth control, and apoptosis represent important pathophysiological mechanisms [3] [4] [5] [6] . Indeed, the number of publications in recent years concerning HO-1 has increased exponentially, while the list of diseases and physiological responses associated with changes in HO-1 continues to expand [5] .\n",
      "The heme oxygenase-1/carbon monoxide (HO-1/CO) system has recently seen an explosion of research interest due to its newly discovered physiological effects. This metabolic pathway, first characterized by Tenhunen et al. [1, 2] , has only recently revealed its surprising cytoprotective properties [3, 4] . Research in HO-1/CO now embraces the entire field of medicine where reactive oxygen/nitrogen species, inflammation, growth control, and apoptosis represent important pathophysiological mechanisms [3] [4] [5] [6] . Indeed, the number of publications in recent years concerning HO-1 has increased exponentially, while the list of diseases and physiological responses associated with changes in HO-1 continues to expand [5] .\n",
      "The heme oxygenase-1/carbon monoxide (HO-1/CO) system has recently seen an explosion of research interest due to its newly discovered physiological effects. This metabolic pathway, first characterized by Tenhunen et al. [1, 2] , has only recently revealed its surprising cytoprotective properties [3, 4] . Research in HO-1/CO now embraces the entire field of medicine where reactive oxygen/nitrogen species, inflammation, growth control, and apoptosis represent important pathophysiological mechanisms [3] [4] [5] [6] . Indeed, the number of publications in recent years concerning HO-1 has increased exponentially, while the list of diseases and physiological responses associated with changes in HO-1 continues to expand [5] .\n",
      "The ef®ciency of +1 ribosomal frameshifting at a speci®c codon is used as a sensor to regulate polyamine levels in mammalian cells. The frameshifting occurs in decoding the gene antizyme 1, which has two partially overlapping open reading frames (ORFs). Protein sequencing showed that the reading-frame shift occurs at the last codon of ORF1, causing a proportion of ribosomes to enter ORF2 to synthesize a transframe protein (Matsufuji et al., 1995) . ORF2 encodes the main functional domains (Matsufuji et al., 1990; Miyazaki et al., 1992) of antizyme but has no ribosome initiation site of its own. The antizyme 1 protein binds to ornithine decarboxylase (ODC) (Murakami et al., 1992a; Cof®no, 1993, 1994) , inhibits it (Heller et al., 1976) and targets it for degradation by the 26S proteosome without ubiquitylation (Murakami et al., 1992b (Murakami et al., , 1999 . ODC catalyzes the ®rst and usually ratelimiting step in the synthesis of polyamines, conversion of ornithine to putrescine. Putrescine is a substrate for the synthesis of spermidine and spermine. Because of its inhibition of ODC, antizyme 1 is a negative regulator of the synthesis of polyamines. In addition, antizyme 1 is a negative regulator of the polyamine transporter (Mitchell et al., 1994; Suzuki et al., 1994; Sakata et al., 1997) . As discovered by Matsufuji and colleagues (Gesteland et al., 1992) and Rom and Kahana (1994) , increasing polyamine levels elevate frameshifting in decoding antizyme 1 mRNA and so increase the level of antizyme 1. Since antizyme 1 negatively regulates the synthesis and uptake of polyamines, the frameshifting is the sensor for an autoregulatory circuit. A second mammalian paralog of antizyme, antizyme 2, has very similar properties to antizyme 1, including the regulatory frameshifting, but does not stimulate degradation of ODC under certain conditions where antizyme 1 is active (Ivanov et al., 1998a; Zhu et al., 1999; Y.Murakami, S.Matsufuji, I.P.Ivanov, R.F.Gesteland and J.F.Atkins, in preparation) . Just like antizyme 1, antizyme 2 mRNA is ubiquitously expressed in the body but is 16 times less abundant than mRNA of antizyme 1 (Ivanov et al., 1998a) . In addition to antizyme 1 and 2, mammals have a third paralog of the gene, antizyme 3 (also encoded by two ORFs), which is expressed only during spermatogenesis (Ivanov et al., 2000) . Zebra®sh also have multiple antizyme genes, which differ in their expression patterns and activities (Saito et al., 2000) .\n",
      "The ef®ciency of +1 ribosomal frameshifting at a speci®c codon is used as a sensor to regulate polyamine levels in mammalian cells. The frameshifting occurs in decoding the gene antizyme 1, which has two partially overlapping open reading frames (ORFs). Protein sequencing showed that the reading-frame shift occurs at the last codon of ORF1, causing a proportion of ribosomes to enter ORF2 to synthesize a transframe protein (Matsufuji et al., 1995) . ORF2 encodes the main functional domains (Matsufuji et al., 1990; Miyazaki et al., 1992) of antizyme but has no ribosome initiation site of its own. The antizyme 1 protein binds to ornithine decarboxylase (ODC) (Murakami et al., 1992a; Cof®no, 1993, 1994) , inhibits it (Heller et al., 1976) and targets it for degradation by the 26S proteosome without ubiquitylation (Murakami et al., 1992b (Murakami et al., , 1999 . ODC catalyzes the ®rst and usually ratelimiting step in the synthesis of polyamines, conversion of ornithine to putrescine. Putrescine is a substrate for the synthesis of spermidine and spermine. Because of its inhibition of ODC, antizyme 1 is a negative regulator of the synthesis of polyamines. In addition, antizyme 1 is a negative regulator of the polyamine transporter (Mitchell et al., 1994; Suzuki et al., 1994; Sakata et al., 1997) . As discovered by Matsufuji and colleagues (Gesteland et al., 1992) and Rom and Kahana (1994) , increasing polyamine levels elevate frameshifting in decoding antizyme 1 mRNA and so increase the level of antizyme 1. Since antizyme 1 negatively regulates the synthesis and uptake of polyamines, the frameshifting is the sensor for an autoregulatory circuit. A second mammalian paralog of antizyme, antizyme 2, has very similar properties to antizyme 1, including the regulatory frameshifting, but does not stimulate degradation of ODC under certain conditions where antizyme 1 is active (Ivanov et al., 1998a; Zhu et al., 1999; Y.Murakami, S.Matsufuji, I.P.Ivanov, R.F.Gesteland and J.F.Atkins, in preparation) . Just like antizyme 1, antizyme 2 mRNA is ubiquitously expressed in the body but is 16 times less abundant than mRNA of antizyme 1 (Ivanov et al., 1998a) . In addition to antizyme 1 and 2, mammals have a third paralog of the gene, antizyme 3 (also encoded by two ORFs), which is expressed only during spermatogenesis (Ivanov et al., 2000) . Zebra®sh also have multiple antizyme genes, which differ in their expression patterns and activities (Saito et al., 2000) .\n",
      "The ef®ciency of +1 ribosomal frameshifting at a speci®c codon is used as a sensor to regulate polyamine levels in mammalian cells. The frameshifting occurs in decoding the gene antizyme 1, which has two partially overlapping open reading frames (ORFs). Protein sequencing showed that the reading-frame shift occurs at the last codon of ORF1, causing a proportion of ribosomes to enter ORF2 to synthesize a transframe protein (Matsufuji et al., 1995) . ORF2 encodes the main functional domains (Matsufuji et al., 1990; Miyazaki et al., 1992) of antizyme but has no ribosome initiation site of its own. The antizyme 1 protein binds to ornithine decarboxylase (ODC) (Murakami et al., 1992a; Cof®no, 1993, 1994) , inhibits it (Heller et al., 1976) and targets it for degradation by the 26S proteosome without ubiquitylation (Murakami et al., 1992b (Murakami et al., , 1999 . ODC catalyzes the ®rst and usually ratelimiting step in the synthesis of polyamines, conversion of ornithine to putrescine. Putrescine is a substrate for the synthesis of spermidine and spermine. Because of its inhibition of ODC, antizyme 1 is a negative regulator of the synthesis of polyamines. In addition, antizyme 1 is a negative regulator of the polyamine transporter (Mitchell et al., 1994; Suzuki et al., 1994; Sakata et al., 1997) . As discovered by Matsufuji and colleagues (Gesteland et al., 1992) and Rom and Kahana (1994) , increasing polyamine levels elevate frameshifting in decoding antizyme 1 mRNA and so increase the level of antizyme 1. Since antizyme 1 negatively regulates the synthesis and uptake of polyamines, the frameshifting is the sensor for an autoregulatory circuit. A second mammalian paralog of antizyme, antizyme 2, has very similar properties to antizyme 1, including the regulatory frameshifting, but does not stimulate degradation of ODC under certain conditions where antizyme 1 is active (Ivanov et al., 1998a; Zhu et al., 1999; Y.Murakami, S.Matsufuji, I.P.Ivanov, R.F.Gesteland and J.F.Atkins, in preparation) . Just like antizyme 1, antizyme 2 mRNA is ubiquitously expressed in the body but is 16 times less abundant than mRNA of antizyme 1 (Ivanov et al., 1998a) . In addition to antizyme 1 and 2, mammals have a third paralog of the gene, antizyme 3 (also encoded by two ORFs), which is expressed only during spermatogenesis (Ivanov et al., 2000) . Zebra®sh also have multiple antizyme genes, which differ in their expression patterns and activities (Saito et al., 2000) .\n",
      "The ef®ciency of +1 ribosomal frameshifting at a speci®c codon is used as a sensor to regulate polyamine levels in mammalian cells. The frameshifting occurs in decoding the gene antizyme 1, which has two partially overlapping open reading frames (ORFs). Protein sequencing showed that the reading-frame shift occurs at the last codon of ORF1, causing a proportion of ribosomes to enter ORF2 to synthesize a transframe protein (Matsufuji et al., 1995) . ORF2 encodes the main functional domains (Matsufuji et al., 1990; Miyazaki et al., 1992) of antizyme but has no ribosome initiation site of its own. The antizyme 1 protein binds to ornithine decarboxylase (ODC) (Murakami et al., 1992a; Cof®no, 1993, 1994) , inhibits it (Heller et al., 1976) and targets it for degradation by the 26S proteosome without ubiquitylation (Murakami et al., 1992b (Murakami et al., , 1999 . ODC catalyzes the ®rst and usually ratelimiting step in the synthesis of polyamines, conversion of ornithine to putrescine. Putrescine is a substrate for the synthesis of spermidine and spermine. Because of its inhibition of ODC, antizyme 1 is a negative regulator of the synthesis of polyamines. In addition, antizyme 1 is a negative regulator of the polyamine transporter (Mitchell et al., 1994; Suzuki et al., 1994; Sakata et al., 1997) . As discovered by Matsufuji and colleagues (Gesteland et al., 1992) and Rom and Kahana (1994) , increasing polyamine levels elevate frameshifting in decoding antizyme 1 mRNA and so increase the level of antizyme 1. Since antizyme 1 negatively regulates the synthesis and uptake of polyamines, the frameshifting is the sensor for an autoregulatory circuit. A second mammalian paralog of antizyme, antizyme 2, has very similar properties to antizyme 1, including the regulatory frameshifting, but does not stimulate degradation of ODC under certain conditions where antizyme 1 is active (Ivanov et al., 1998a; Zhu et al., 1999; Y.Murakami, S.Matsufuji, I.P.Ivanov, R.F.Gesteland and J.F.Atkins, in preparation) . Just like antizyme 1, antizyme 2 mRNA is ubiquitously expressed in the body but is 16 times less abundant than mRNA of antizyme 1 (Ivanov et al., 1998a) . In addition to antizyme 1 and 2, mammals have a third paralog of the gene, antizyme 3 (also encoded by two ORFs), which is expressed only during spermatogenesis (Ivanov et al., 2000) . Zebra®sh also have multiple antizyme genes, which differ in their expression patterns and activities (Saito et al., 2000) .\n",
      "The ef®ciency of +1 ribosomal frameshifting at a speci®c codon is used as a sensor to regulate polyamine levels in mammalian cells. The frameshifting occurs in decoding the gene antizyme 1, which has two partially overlapping open reading frames (ORFs). Protein sequencing showed that the reading-frame shift occurs at the last codon of ORF1, causing a proportion of ribosomes to enter ORF2 to synthesize a transframe protein (Matsufuji et al., 1995) . ORF2 encodes the main functional domains (Matsufuji et al., 1990; Miyazaki et al., 1992) of antizyme but has no ribosome initiation site of its own. The antizyme 1 protein binds to ornithine decarboxylase (ODC) (Murakami et al., 1992a; Cof®no, 1993, 1994) , inhibits it (Heller et al., 1976) and targets it for degradation by the 26S proteosome without ubiquitylation (Murakami et al., 1992b (Murakami et al., , 1999 . ODC catalyzes the ®rst and usually ratelimiting step in the synthesis of polyamines, conversion of ornithine to putrescine. Putrescine is a substrate for the synthesis of spermidine and spermine. Because of its inhibition of ODC, antizyme 1 is a negative regulator of the synthesis of polyamines. In addition, antizyme 1 is a negative regulator of the polyamine transporter (Mitchell et al., 1994; Suzuki et al., 1994; Sakata et al., 1997) . As discovered by Matsufuji and colleagues (Gesteland et al., 1992) and Rom and Kahana (1994) , increasing polyamine levels elevate frameshifting in decoding antizyme 1 mRNA and so increase the level of antizyme 1. Since antizyme 1 negatively regulates the synthesis and uptake of polyamines, the frameshifting is the sensor for an autoregulatory circuit. A second mammalian paralog of antizyme, antizyme 2, has very similar properties to antizyme 1, including the regulatory frameshifting, but does not stimulate degradation of ODC under certain conditions where antizyme 1 is active (Ivanov et al., 1998a; Zhu et al., 1999; Y.Murakami, S.Matsufuji, I.P.Ivanov, R.F.Gesteland and J.F.Atkins, in preparation) . Just like antizyme 1, antizyme 2 mRNA is ubiquitously expressed in the body but is 16 times less abundant than mRNA of antizyme 1 (Ivanov et al., 1998a) . In addition to antizyme 1 and 2, mammals have a third paralog of the gene, antizyme 3 (also encoded by two ORFs), which is expressed only during spermatogenesis (Ivanov et al., 2000) . Zebra®sh also have multiple antizyme genes, which differ in their expression patterns and activities (Saito et al., 2000) .\n",
      "p62 is a novel cellular protein which was initially identified in humans as a phosphotyrosine independent ligand of the src homology 2 (SH2) domain of p56 lck (1, 2) . p56 lck is a member of the c-src family of cytoplasmic tyrosine kinases that is found predominantly in cells of lymphoid origin (3, 4) . In addition to the interaction with p56 lck , p62 also associates with the Ser/Thr kinase (1, 2) , atypical protein kinase C (5, 6) , and ubiquitin (7) . In addition to the SH2 domain, p62 possesses several structural motifs, including a ubiquitin associated (UBA) domain that is capable of binding ubiquitin nonconvalently (8, 9) . Ubiquitin (Ub) is a small polypeptide of 76 amino acids that can be convalently attached to other proteins at specific lysine residues through chains composed of one (mono) or several ubiquitin moieties (poly). In addition to its classical role in protein degradation, ubiquitin is emerging as a signal for protein transport and processing (10) (11) (12) . Conjugation of ubiquitin to substrate proteins requires three enzymes: a ubiquitin activating enzyme E1, a ubiquitin-conjugating enzyme E2, and a ubiquitin ligase E3. Initially, E1 activates ubiquitin by forming a high energy thioester intermediate with the C-terminal glycine using ATP. The activated ubiquitin is sequentially transferred to E2, then to E3 which catalyzes isopeptide bond formation between the activated C-terminal glycine of ubiquitin and ε-amino group of a lysine residue of the substrate. Following the linkage of the first ubiquitin chain, additional molecules of ubiquitin are attached to lysine side chains of the previously conjugated moiety to form branched polyubiquitin chains. The fate of ubiquitinated substrates depends on the number of ubiquitin moieties conjugated, as well as, the lysine linkage of Ub-Ub conjugation. The conjugation of ubiquitin to eukaryotic intracellular proteins is one way in which those proteins are targeted to the proteasome for subsequent rapid degradation. This mechanism is particularly important for short-lived regulatory proteins such as cyclins, cyclin-dependent protein kinase-inhibitors, p53, the nuclear factor kappa B precursor, and IκB (13) . The ubiquitinproteasome system consists of two steps: 1) the target protein is conjugated with polyubiquitin molecules, which mark the substrate for degradation; 2) the target protein is transferred to the 26S proteasome, unfolded and degraded.\n",
      "p62 is a novel cellular protein which was initially identified in humans as a phosphotyrosine independent ligand of the src homology 2 (SH2) domain of p56 lck (1, 2) . p56 lck is a member of the c-src family of cytoplasmic tyrosine kinases that is found predominantly in cells of lymphoid origin (3, 4) . In addition to the interaction with p56 lck , p62 also associates with the Ser/Thr kinase (1, 2) , atypical protein kinase C (5, 6) , and ubiquitin (7) . In addition to the SH2 domain, p62 possesses several structural motifs, including a ubiquitin associated (UBA) domain that is capable of binding ubiquitin nonconvalently (8, 9) . Ubiquitin (Ub) is a small polypeptide of 76 amino acids that can be convalently attached to other proteins at specific lysine residues through chains composed of one (mono) or several ubiquitin moieties (poly). In addition to its classical role in protein degradation, ubiquitin is emerging as a signal for protein transport and processing (10) (11) (12) . Conjugation of ubiquitin to substrate proteins requires three enzymes: a ubiquitin activating enzyme E1, a ubiquitin-conjugating enzyme E2, and a ubiquitin ligase E3. Initially, E1 activates ubiquitin by forming a high energy thioester intermediate with the C-terminal glycine using ATP. The activated ubiquitin is sequentially transferred to E2, then to E3 which catalyzes isopeptide bond formation between the activated C-terminal glycine of ubiquitin and ε-amino group of a lysine residue of the substrate. Following the linkage of the first ubiquitin chain, additional molecules of ubiquitin are attached to lysine side chains of the previously conjugated moiety to form branched polyubiquitin chains. The fate of ubiquitinated substrates depends on the number of ubiquitin moieties conjugated, as well as, the lysine linkage of Ub-Ub conjugation. The conjugation of ubiquitin to eukaryotic intracellular proteins is one way in which those proteins are targeted to the proteasome for subsequent rapid degradation. This mechanism is particularly important for short-lived regulatory proteins such as cyclins, cyclin-dependent protein kinase-inhibitors, p53, the nuclear factor kappa B precursor, and IκB (13) . The ubiquitinproteasome system consists of two steps: 1) the target protein is conjugated with polyubiquitin molecules, which mark the substrate for degradation; 2) the target protein is transferred to the 26S proteasome, unfolded and degraded.\n",
      "p62 is a novel cellular protein which was initially identified in humans as a phosphotyrosine independent ligand of the src homology 2 (SH2) domain of p56 lck (1, 2) . p56 lck is a member of the c-src family of cytoplasmic tyrosine kinases that is found predominantly in cells of lymphoid origin (3, 4) . In addition to the interaction with p56 lck , p62 also associates with the Ser/Thr kinase (1, 2) , atypical protein kinase C (5, 6) , and ubiquitin (7) . In addition to the SH2 domain, p62 possesses several structural motifs, including a ubiquitin associated (UBA) domain that is capable of binding ubiquitin nonconvalently (8, 9) . Ubiquitin (Ub) is a small polypeptide of 76 amino acids that can be convalently attached to other proteins at specific lysine residues through chains composed of one (mono) or several ubiquitin moieties (poly). In addition to its classical role in protein degradation, ubiquitin is emerging as a signal for protein transport and processing (10) (11) (12) . Conjugation of ubiquitin to substrate proteins requires three enzymes: a ubiquitin activating enzyme E1, a ubiquitin-conjugating enzyme E2, and a ubiquitin ligase E3. Initially, E1 activates ubiquitin by forming a high energy thioester intermediate with the C-terminal glycine using ATP. The activated ubiquitin is sequentially transferred to E2, then to E3 which catalyzes isopeptide bond formation between the activated C-terminal glycine of ubiquitin and ε-amino group of a lysine residue of the substrate. Following the linkage of the first ubiquitin chain, additional molecules of ubiquitin are attached to lysine side chains of the previously conjugated moiety to form branched polyubiquitin chains. The fate of ubiquitinated substrates depends on the number of ubiquitin moieties conjugated, as well as, the lysine linkage of Ub-Ub conjugation. The conjugation of ubiquitin to eukaryotic intracellular proteins is one way in which those proteins are targeted to the proteasome for subsequent rapid degradation. This mechanism is particularly important for short-lived regulatory proteins such as cyclins, cyclin-dependent protein kinase-inhibitors, p53, the nuclear factor kappa B precursor, and IκB (13) . The ubiquitinproteasome system consists of two steps: 1) the target protein is conjugated with polyubiquitin molecules, which mark the substrate for degradation; 2) the target protein is transferred to the 26S proteasome, unfolded and degraded.\n",
      "Intracellular bacterial and viral pathogens have evolved numerous mechanisms to appropriate and exploit different systems of the host during their life cycles in order to facilitate their spread during entry and exit from the host (Cudmore et al., 1997; Finlay and Cossart, 1997; Dramsi and Cossart, 1998) . In the case of viruses, perhaps the best studied example is the exploitation of the actin cytoskeleton by vaccinia virus during its exit from infected cells (Cudmore et al., 1997) . Vaccinia virus is a large DNA virus with a genome of~191 kb encoding 260 open reading frames (ORFs) that is a close relative of variola virus, the causative agent of smallpox (Johnson et al., 1993; Massung et al., 1993) . Vaccinia virus morphogenesis is a complex process which occurs in the cytoplasm of infected cells and results in the formation of the intracellular mature virus (IMV) and the intracellular enveloped virus (IEV). IMV consist of a viral core of DNA and protein enveloped in a membrane cisterna derived from the intermediate compartment (Sodeik et al., 1993) . The IMV core contains ®ve major proteins, A3L, A4L, A10L, F17R and L4R (Vanslyke and Hruby, 1994; Jensen et al., 1996a) , while 12 proteins, A12L, A13L, A14L, A14.5L, A17L, A27L, D8L, G4L, G7L, H3L, I5L and L1R, are associated with the membranes around the virus particle (Jensen et al., 1996a; Betakova et al., 2000) . Depending on the virus strain and cell type, a proportion of IMV can become enwrapped by a membrane cisterna derived from the trans-Golgi apparatus to give rise to IEV particles (Schmelz et al., 1994) . To date, six IEV-speci®c proteins, A33R (Roper et al., 1996) , A34R (Duncan and Smith, 1992) , A36R (Parkinson and Smith, 1994) , A56R (Payne and Norrby, 1976; Shida, 1986) , B5R (Engelstad et al., 1992; Isaacs et al., 1992) and F13L (Hirt et al., 1986) , have been identi®ed. Studies using recombinant viruses have shown that A33R, A34R, B5R and F13L play an important role in IEV assembly (Blasco and Moss, 1991; Engelstad and Smith, 1993; Wolffe et al., 1993 Wolffe et al., , 1997 Roper et al., 1998; Sanderson et al., 1998a; Ro Èttger et al., 1999) . Vaccinia virus is thought to leave the cell by fusion of the outer IEV membrane with the plasma membrane, to give rise to the extracellular enveloped virus (EEV) (Morgan, 1976; Payne, 1980; Blasco and Moss, 1991) or the cell-associated enveloped viruses (CEV) which remain associated with the outer surface of the plasma membrane (Blasco and Moss, 1992) .\n",
      "Intracellular bacterial and viral pathogens have evolved numerous mechanisms to appropriate and exploit different systems of the host during their life cycles in order to facilitate their spread during entry and exit from the host (Cudmore et al., 1997; Finlay and Cossart, 1997; Dramsi and Cossart, 1998) . In the case of viruses, perhaps the best studied example is the exploitation of the actin cytoskeleton by vaccinia virus during its exit from infected cells (Cudmore et al., 1997) . Vaccinia virus is a large DNA virus with a genome of~191 kb encoding 260 open reading frames (ORFs) that is a close relative of variola virus, the causative agent of smallpox (Johnson et al., 1993; Massung et al., 1993) . Vaccinia virus morphogenesis is a complex process which occurs in the cytoplasm of infected cells and results in the formation of the intracellular mature virus (IMV) and the intracellular enveloped virus (IEV). IMV consist of a viral core of DNA and protein enveloped in a membrane cisterna derived from the intermediate compartment (Sodeik et al., 1993) . The IMV core contains ®ve major proteins, A3L, A4L, A10L, F17R and L4R (Vanslyke and Hruby, 1994; Jensen et al., 1996a) , while 12 proteins, A12L, A13L, A14L, A14.5L, A17L, A27L, D8L, G4L, G7L, H3L, I5L and L1R, are associated with the membranes around the virus particle (Jensen et al., 1996a; Betakova et al., 2000) . Depending on the virus strain and cell type, a proportion of IMV can become enwrapped by a membrane cisterna derived from the trans-Golgi apparatus to give rise to IEV particles (Schmelz et al., 1994) . To date, six IEV-speci®c proteins, A33R (Roper et al., 1996) , A34R (Duncan and Smith, 1992) , A36R (Parkinson and Smith, 1994) , A56R (Payne and Norrby, 1976; Shida, 1986) , B5R (Engelstad et al., 1992; Isaacs et al., 1992) and F13L (Hirt et al., 1986) , have been identi®ed. Studies using recombinant viruses have shown that A33R, A34R, B5R and F13L play an important role in IEV assembly (Blasco and Moss, 1991; Engelstad and Smith, 1993; Wolffe et al., 1993 Wolffe et al., , 1997 Roper et al., 1998; Sanderson et al., 1998a; Ro Èttger et al., 1999) . Vaccinia virus is thought to leave the cell by fusion of the outer IEV membrane with the plasma membrane, to give rise to the extracellular enveloped virus (EEV) (Morgan, 1976; Payne, 1980; Blasco and Moss, 1991) or the cell-associated enveloped viruses (CEV) which remain associated with the outer surface of the plasma membrane (Blasco and Moss, 1992) .\n",
      "Intracellular bacterial and viral pathogens have evolved numerous mechanisms to appropriate and exploit different systems of the host during their life cycles in order to facilitate their spread during entry and exit from the host (Cudmore et al., 1997; Finlay and Cossart, 1997; Dramsi and Cossart, 1998) . In the case of viruses, perhaps the best studied example is the exploitation of the actin cytoskeleton by vaccinia virus during its exit from infected cells (Cudmore et al., 1997) . Vaccinia virus is a large DNA virus with a genome of~191 kb encoding 260 open reading frames (ORFs) that is a close relative of variola virus, the causative agent of smallpox (Johnson et al., 1993; Massung et al., 1993) . Vaccinia virus morphogenesis is a complex process which occurs in the cytoplasm of infected cells and results in the formation of the intracellular mature virus (IMV) and the intracellular enveloped virus (IEV). IMV consist of a viral core of DNA and protein enveloped in a membrane cisterna derived from the intermediate compartment (Sodeik et al., 1993) . The IMV core contains ®ve major proteins, A3L, A4L, A10L, F17R and L4R (Vanslyke and Hruby, 1994; Jensen et al., 1996a) , while 12 proteins, A12L, A13L, A14L, A14.5L, A17L, A27L, D8L, G4L, G7L, H3L, I5L and L1R, are associated with the membranes around the virus particle (Jensen et al., 1996a; Betakova et al., 2000) . Depending on the virus strain and cell type, a proportion of IMV can become enwrapped by a membrane cisterna derived from the trans-Golgi apparatus to give rise to IEV particles (Schmelz et al., 1994) . To date, six IEV-speci®c proteins, A33R (Roper et al., 1996) , A34R (Duncan and Smith, 1992) , A36R (Parkinson and Smith, 1994) , A56R (Payne and Norrby, 1976; Shida, 1986) , B5R (Engelstad et al., 1992; Isaacs et al., 1992) and F13L (Hirt et al., 1986) , have been identi®ed. Studies using recombinant viruses have shown that A33R, A34R, B5R and F13L play an important role in IEV assembly (Blasco and Moss, 1991; Engelstad and Smith, 1993; Wolffe et al., 1993 Wolffe et al., , 1997 Roper et al., 1998; Sanderson et al., 1998a; Ro Èttger et al., 1999) . Vaccinia virus is thought to leave the cell by fusion of the outer IEV membrane with the plasma membrane, to give rise to the extracellular enveloped virus (EEV) (Morgan, 1976; Payne, 1980; Blasco and Moss, 1991) or the cell-associated enveloped viruses (CEV) which remain associated with the outer surface of the plasma membrane (Blasco and Moss, 1992) .\n",
      "In some critically ill patients herpes simplex virus (HSV)-1 is isolated from the upper or lower respiratory tract [1] [2] [3] [4] [5] [6] [7] [8] [9] [10] [11] [12] [13] [14] [15] . Immunodepressed patients may be susceptible to transmission and acquisition of viral diseases; alternatively, viral reactivation may occur and may contribute relatively little to morbidity and mortality. Indeed, reactivation of human herpesvirus-6 is common in critically ill patients and does not worsen outcome [16, 17] . In immunocompetent patients, however, isolation of HSV-1 may be associated with viral pneumonia, even if reactivation rather than primary infection is responsible [6, 8, 18] . HSV-1 has been associated with acute respiratory distress syndrome (ARDS) and ventilator-associated pneumonia in the critically ill [1] [2] [3] [4] [5] [6] [7] [8] [9] [10] [11] [12] [13] [14] , as either a primary or a superimposed infection. However, there are few reports of the virus eliciting an infectious host response, as demonstrated by a rise in serum antibodies, by bronchoscopic airway disease, by 'typical' findings on computed tomography of the lungs, or by the presence of giant cells or nuclear inclusion bodies on cytology or biopsy of the lower respiratory tract [3, 5, 9, 10, 18] . Indeed, Tuxen and coworkers [4] observed that prophylactic antiviral therapy in ARDS prevented respiratory HSV-1 emergence but it had no impact on duration of mechanical ventilation or on patient outcome. The pathogenicity of the virus therefore remains unknown, and the rare association in the critically ill of HSV-1 isolation with mortality may represent reactivation of the virus in immunodepressed patients with multiple organ failure and poor outcome [1, 2, 11, 14, 15] , rather than a symptomatic primary infection or superinfection contributing to death.\n",
      "In some critically ill patients herpes simplex virus (HSV)-1 is isolated from the upper or lower respiratory tract [1] [2] [3] [4] [5] [6] [7] [8] [9] [10] [11] [12] [13] [14] [15] . Immunodepressed patients may be susceptible to transmission and acquisition of viral diseases; alternatively, viral reactivation may occur and may contribute relatively little to morbidity and mortality. Indeed, reactivation of human herpesvirus-6 is common in critically ill patients and does not worsen outcome [16, 17] . In immunocompetent patients, however, isolation of HSV-1 may be associated with viral pneumonia, even if reactivation rather than primary infection is responsible [6, 8, 18] . HSV-1 has been associated with acute respiratory distress syndrome (ARDS) and ventilator-associated pneumonia in the critically ill [1] [2] [3] [4] [5] [6] [7] [8] [9] [10] [11] [12] [13] [14] , as either a primary or a superimposed infection. However, there are few reports of the virus eliciting an infectious host response, as demonstrated by a rise in serum antibodies, by bronchoscopic airway disease, by 'typical' findings on computed tomography of the lungs, or by the presence of giant cells or nuclear inclusion bodies on cytology or biopsy of the lower respiratory tract [3, 5, 9, 10, 18] . Indeed, Tuxen and coworkers [4] observed that prophylactic antiviral therapy in ARDS prevented respiratory HSV-1 emergence but it had no impact on duration of mechanical ventilation or on patient outcome. The pathogenicity of the virus therefore remains unknown, and the rare association in the critically ill of HSV-1 isolation with mortality may represent reactivation of the virus in immunodepressed patients with multiple organ failure and poor outcome [1, 2, 11, 14, 15] , rather than a symptomatic primary infection or superinfection contributing to death.\n",
      "In some critically ill patients herpes simplex virus (HSV)-1 is isolated from the upper or lower respiratory tract [1] [2] [3] [4] [5] [6] [7] [8] [9] [10] [11] [12] [13] [14] [15] . Immunodepressed patients may be susceptible to transmission and acquisition of viral diseases; alternatively, viral reactivation may occur and may contribute relatively little to morbidity and mortality. Indeed, reactivation of human herpesvirus-6 is common in critically ill patients and does not worsen outcome [16, 17] . In immunocompetent patients, however, isolation of HSV-1 may be associated with viral pneumonia, even if reactivation rather than primary infection is responsible [6, 8, 18] . HSV-1 has been associated with acute respiratory distress syndrome (ARDS) and ventilator-associated pneumonia in the critically ill [1] [2] [3] [4] [5] [6] [7] [8] [9] [10] [11] [12] [13] [14] , as either a primary or a superimposed infection. However, there are few reports of the virus eliciting an infectious host response, as demonstrated by a rise in serum antibodies, by bronchoscopic airway disease, by 'typical' findings on computed tomography of the lungs, or by the presence of giant cells or nuclear inclusion bodies on cytology or biopsy of the lower respiratory tract [3, 5, 9, 10, 18] . Indeed, Tuxen and coworkers [4] observed that prophylactic antiviral therapy in ARDS prevented respiratory HSV-1 emergence but it had no impact on duration of mechanical ventilation or on patient outcome. The pathogenicity of the virus therefore remains unknown, and the rare association in the critically ill of HSV-1 isolation with mortality may represent reactivation of the virus in immunodepressed patients with multiple organ failure and poor outcome [1, 2, 11, 14, 15] , rather than a symptomatic primary infection or superinfection contributing to death.\n",
      "The observed distribution of AlkB domains could most easily be explained by assuming that an ancestral AlkB domain was integrated into the genome of the last common ancestor of the Flexiviridae 2 subfamily. Subsequent Figure 6 Dot plots for Potato virus M (NCBI gi9626090) and Aconitum latent virus (NCBI gi14251191). To the left the full sequences are shown, using the program default for similarity threshold, and to the right the region with AlkB, OTU and peptidase integration, using a slightly lower (more sensitive) threshold for sequence similarity. The Pfam regions corresponding to MT (magenta), AlkB (red), OTU (green), peptidase (blue), HEL (yellow) and RdRp (cyan) domains are indicated. virus generations derived from this common ancestor would then also contain an AlkB domain, except in those cases where the domain was lost again. This scenario could also include subsequent transfer to a small number of other virus families e.g. by recombination.\n"
     ]
    }
   ],
   "source": [
    "\n",
    "import re\n",
    "newlistOfDocus = []\n",
    "for key, value in cord_uid_to_text.items():\n",
    "    doc = ''\n",
    "    for v in value:\n",
    "        for m in v:\n",
    "            print(v[0])\n",
    "            doc += re.sub(r'[^a-zA-Z_\\s]+', '', m)\n",
    "    newlistOfDocus.append(doc)"
   ]
  },
  {
   "cell_type": "code",
   "execution_count": 29,
   "metadata": {},
   "outputs": [
    {
     "data": {
      "text/plain": [
       "[['ap',\n",
       "  'hypoxia',\n",
       "  'cytoprotective',\n",
       "  'may',\n",
       "  'studies',\n",
       "  'by',\n",
       "  'effects',\n",
       "  'induction',\n",
       "  'oxidative',\n",
       "  'to',\n",
       "  'co',\n",
       "  'hoco',\n",
       "  'have',\n",
       "  'stress',\n",
       "  'heme',\n",
       "  'and',\n",
       "  'in',\n",
       "  'of',\n",
       "  'the',\n",
       "  'ho'],\n",
       " ['nitrogen',\n",
       "  'biological',\n",
       "  'including',\n",
       "  'production',\n",
       "  'as',\n",
       "  'or',\n",
       "  'inflammatory',\n",
       "  'cells',\n",
       "  'respiratory',\n",
       "  'proinflammatory',\n",
       "  'rns',\n",
       "  'to',\n",
       "  'such',\n",
       "  'in',\n",
       "  'is',\n",
       "  'no',\n",
       "  'the',\n",
       "  'and',\n",
       "  'of',\n",
       "  'nos'],\n",
       " ['membrane',\n",
       "  'sanderson',\n",
       "  'ar',\n",
       "  'iev',\n",
       "  'polyamines',\n",
       "  'during',\n",
       "  'odc',\n",
       "  'cell',\n",
       "  'virus',\n",
       "  'frameshifting',\n",
       "  'is',\n",
       "  'to',\n",
       "  'vaccinia',\n",
       "  'in',\n",
       "  'antizyme',\n",
       "  'and',\n",
       "  'of',\n",
       "  'et',\n",
       "  'the',\n",
       "  'al'],\n",
       " ['or',\n",
       "  'for',\n",
       "  'as',\n",
       "  'hsv',\n",
       "  'pli',\n",
       "  'that',\n",
       "  'may',\n",
       "  'uba',\n",
       "  'transfusions',\n",
       "  'proteins',\n",
       "  'ill',\n",
       "  'critically',\n",
       "  'ubiquitin',\n",
       "  'patients',\n",
       "  'is',\n",
       "  'and',\n",
       "  'to',\n",
       "  'in',\n",
       "  'of',\n",
       "  'the'],\n",
       " ['was',\n",
       "  'using',\n",
       "  'for',\n",
       "  'subsequent',\n",
       "  'domains',\n",
       "  'and',\n",
       "  'of',\n",
       "  'similarity',\n",
       "  'could',\n",
       "  'threshold',\n",
       "  'to',\n",
       "  'peptidase',\n",
       "  'gi',\n",
       "  'ancestor',\n",
       "  'ncbi',\n",
       "  'otu',\n",
       "  'domain',\n",
       "  'virus',\n",
       "  'the',\n",
       "  'alkb'],\n",
       " ['responses',\n",
       "  'viruses',\n",
       "  'cellular',\n",
       "  'form',\n",
       "  'they',\n",
       "  'extent',\n",
       "  'are',\n",
       "  'necrosis',\n",
       "  'pneumovirus',\n",
       "  'vitro',\n",
       "  'by',\n",
       "  'cells',\n",
       "  'in',\n",
       "  'and',\n",
       "  'epithelial',\n",
       "  'rsv',\n",
       "  'to',\n",
       "  'infection',\n",
       "  'of',\n",
       "  'the'],\n",
       " ['italy',\n",
       "  'replacement',\n",
       "  'us',\n",
       "  'promise',\n",
       "  'era',\n",
       "  'prone',\n",
       "  'on',\n",
       "  'recent',\n",
       "  'ards',\n",
       "  'years',\n",
       "  'results',\n",
       "  'clinical',\n",
       "  'were',\n",
       "  'trials',\n",
       "  'topics',\n",
       "  'and',\n",
       "  'in',\n",
       "  'sepsis',\n",
       "  'the',\n",
       "  'of'],\n",
       " ['genome',\n",
       "  'to',\n",
       "  'end',\n",
       "  'model',\n",
       "  'template',\n",
       "  'mrna',\n",
       "  'in',\n",
       "  'genomic',\n",
       "  'al',\n",
       "  'et',\n",
       "  'and',\n",
       "  'leader',\n",
       "  'trs',\n",
       "  'minus',\n",
       "  'synthesis',\n",
       "  'strand',\n",
       "  'of',\n",
       "  'rna',\n",
       "  'sg',\n",
       "  'the'],\n",
       " ['at',\n",
       "  'it',\n",
       "  'to',\n",
       "  'by',\n",
       "  'with',\n",
       "  'most',\n",
       "  'one',\n",
       "  'the',\n",
       "  'this',\n",
       "  'mycoplasma',\n",
       "  'pneumoniae',\n",
       "  'hospital',\n",
       "  'saudi',\n",
       "  'arabia',\n",
       "  'and',\n",
       "  'caused',\n",
       "  'is',\n",
       "  'of',\n",
       "  'organism',\n",
       "  'infections'],\n",
       " ['what',\n",
       "  'antigens',\n",
       "  'microorganisms',\n",
       "  'modulate',\n",
       "  'relationships',\n",
       "  'believed',\n",
       "  'on',\n",
       "  'other',\n",
       "  'to',\n",
       "  'is',\n",
       "  'function',\n",
       "  'known',\n",
       "  'spd',\n",
       "  'reviews',\n",
       "  'collectins',\n",
       "  'spa',\n",
       "  'surfactant',\n",
       "  'the',\n",
       "  'of',\n",
       "  'and']]"
      ]
     },
     "execution_count": 29,
     "metadata": {},
     "output_type": "execute_result"
    }
   ],
   "source": [
    "GetTopicsUsingTFIDFAndKMeansClustering(newlistOfDocus, 10, 20)"
   ]
  },
  {
   "cell_type": "code",
   "execution_count": 38,
   "metadata": {},
   "outputs": [
    {
     "ename": "ValueError",
     "evalue": "'c' argument has 10 elements, which is inconsistent with 'x' and 'y' with size 1.",
     "output_type": "error",
     "traceback": [
      "\u001b[0;31m---------------------------------------------------------------------------\u001b[0m",
      "\u001b[0;31mValueError\u001b[0m                                Traceback (most recent call last)",
      "\u001b[0;32m~/opt/anaconda3/lib/python3.8/site-packages/matplotlib/axes/_axes.py\u001b[0m in \u001b[0;36m_parse_scatter_color_args\u001b[0;34m(c, edgecolors, kwargs, xsize, get_next_color_func)\u001b[0m\n\u001b[1;32m   4290\u001b[0m             \u001b[0;32mtry\u001b[0m\u001b[0;34m:\u001b[0m  \u001b[0;31m# Is 'c' acceptable as PathCollection facecolors?\u001b[0m\u001b[0;34m\u001b[0m\u001b[0;34m\u001b[0m\u001b[0m\n\u001b[0;32m-> 4291\u001b[0;31m                 \u001b[0mcolors\u001b[0m \u001b[0;34m=\u001b[0m \u001b[0mmcolors\u001b[0m\u001b[0;34m.\u001b[0m\u001b[0mto_rgba_array\u001b[0m\u001b[0;34m(\u001b[0m\u001b[0mc\u001b[0m\u001b[0;34m)\u001b[0m\u001b[0;34m\u001b[0m\u001b[0;34m\u001b[0m\u001b[0m\n\u001b[0m\u001b[1;32m   4292\u001b[0m             \u001b[0;32mexcept\u001b[0m \u001b[0;34m(\u001b[0m\u001b[0mTypeError\u001b[0m\u001b[0;34m,\u001b[0m \u001b[0mValueError\u001b[0m\u001b[0;34m)\u001b[0m \u001b[0;32mas\u001b[0m \u001b[0merr\u001b[0m\u001b[0;34m:\u001b[0m\u001b[0;34m\u001b[0m\u001b[0;34m\u001b[0m\u001b[0m\n",
      "\u001b[0;32m~/opt/anaconda3/lib/python3.8/site-packages/matplotlib/colors.py\u001b[0m in \u001b[0;36mto_rgba_array\u001b[0;34m(c, alpha)\u001b[0m\n\u001b[1;32m    340\u001b[0m     \u001b[0;32melse\u001b[0m\u001b[0;34m:\u001b[0m\u001b[0;34m\u001b[0m\u001b[0;34m\u001b[0m\u001b[0m\n\u001b[0;32m--> 341\u001b[0;31m         \u001b[0;32mreturn\u001b[0m \u001b[0mnp\u001b[0m\u001b[0;34m.\u001b[0m\u001b[0marray\u001b[0m\u001b[0;34m(\u001b[0m\u001b[0;34m[\u001b[0m\u001b[0mto_rgba\u001b[0m\u001b[0;34m(\u001b[0m\u001b[0mcc\u001b[0m\u001b[0;34m,\u001b[0m \u001b[0malpha\u001b[0m\u001b[0;34m)\u001b[0m \u001b[0;32mfor\u001b[0m \u001b[0mcc\u001b[0m \u001b[0;32min\u001b[0m \u001b[0mc\u001b[0m\u001b[0;34m]\u001b[0m\u001b[0;34m)\u001b[0m\u001b[0;34m\u001b[0m\u001b[0;34m\u001b[0m\u001b[0m\n\u001b[0m\u001b[1;32m    342\u001b[0m \u001b[0;34m\u001b[0m\u001b[0m\n",
      "\u001b[0;32m~/opt/anaconda3/lib/python3.8/site-packages/matplotlib/colors.py\u001b[0m in \u001b[0;36m<listcomp>\u001b[0;34m(.0)\u001b[0m\n\u001b[1;32m    340\u001b[0m     \u001b[0;32melse\u001b[0m\u001b[0;34m:\u001b[0m\u001b[0;34m\u001b[0m\u001b[0;34m\u001b[0m\u001b[0m\n\u001b[0;32m--> 341\u001b[0;31m         \u001b[0;32mreturn\u001b[0m \u001b[0mnp\u001b[0m\u001b[0;34m.\u001b[0m\u001b[0marray\u001b[0m\u001b[0;34m(\u001b[0m\u001b[0;34m[\u001b[0m\u001b[0mto_rgba\u001b[0m\u001b[0;34m(\u001b[0m\u001b[0mcc\u001b[0m\u001b[0;34m,\u001b[0m \u001b[0malpha\u001b[0m\u001b[0;34m)\u001b[0m \u001b[0;32mfor\u001b[0m \u001b[0mcc\u001b[0m \u001b[0;32min\u001b[0m \u001b[0mc\u001b[0m\u001b[0;34m]\u001b[0m\u001b[0;34m)\u001b[0m\u001b[0;34m\u001b[0m\u001b[0;34m\u001b[0m\u001b[0m\n\u001b[0m\u001b[1;32m    342\u001b[0m \u001b[0;34m\u001b[0m\u001b[0m\n",
      "\u001b[0;32m~/opt/anaconda3/lib/python3.8/site-packages/matplotlib/colors.py\u001b[0m in \u001b[0;36mto_rgba\u001b[0;34m(c, alpha)\u001b[0m\n\u001b[1;32m    188\u001b[0m     \u001b[0;32mif\u001b[0m \u001b[0mrgba\u001b[0m \u001b[0;32mis\u001b[0m \u001b[0;32mNone\u001b[0m\u001b[0;34m:\u001b[0m  \u001b[0;31m# Suppress exception chaining of cache lookup failure.\u001b[0m\u001b[0;34m\u001b[0m\u001b[0;34m\u001b[0m\u001b[0m\n\u001b[0;32m--> 189\u001b[0;31m         \u001b[0mrgba\u001b[0m \u001b[0;34m=\u001b[0m \u001b[0m_to_rgba_no_colorcycle\u001b[0m\u001b[0;34m(\u001b[0m\u001b[0mc\u001b[0m\u001b[0;34m,\u001b[0m \u001b[0malpha\u001b[0m\u001b[0;34m)\u001b[0m\u001b[0;34m\u001b[0m\u001b[0;34m\u001b[0m\u001b[0m\n\u001b[0m\u001b[1;32m    190\u001b[0m         \u001b[0;32mtry\u001b[0m\u001b[0;34m:\u001b[0m\u001b[0;34m\u001b[0m\u001b[0;34m\u001b[0m\u001b[0m\n",
      "\u001b[0;32m~/opt/anaconda3/lib/python3.8/site-packages/matplotlib/colors.py\u001b[0m in \u001b[0;36m_to_rgba_no_colorcycle\u001b[0;34m(c, alpha)\u001b[0m\n\u001b[1;32m    262\u001b[0m     \u001b[0;32mif\u001b[0m \u001b[0;32mnot\u001b[0m \u001b[0mnp\u001b[0m\u001b[0;34m.\u001b[0m\u001b[0miterable\u001b[0m\u001b[0;34m(\u001b[0m\u001b[0mc\u001b[0m\u001b[0;34m)\u001b[0m\u001b[0;34m:\u001b[0m\u001b[0;34m\u001b[0m\u001b[0;34m\u001b[0m\u001b[0m\n\u001b[0;32m--> 263\u001b[0;31m         \u001b[0;32mraise\u001b[0m \u001b[0mValueError\u001b[0m\u001b[0;34m(\u001b[0m\u001b[0;34mf\"Invalid RGBA argument: {orig_c!r}\"\u001b[0m\u001b[0;34m)\u001b[0m\u001b[0;34m\u001b[0m\u001b[0;34m\u001b[0m\u001b[0m\n\u001b[0m\u001b[1;32m    264\u001b[0m     \u001b[0;32mif\u001b[0m \u001b[0mlen\u001b[0m\u001b[0;34m(\u001b[0m\u001b[0mc\u001b[0m\u001b[0;34m)\u001b[0m \u001b[0;32mnot\u001b[0m \u001b[0;32min\u001b[0m \u001b[0;34m[\u001b[0m\u001b[0;36m3\u001b[0m\u001b[0;34m,\u001b[0m \u001b[0;36m4\u001b[0m\u001b[0;34m]\u001b[0m\u001b[0;34m:\u001b[0m\u001b[0;34m\u001b[0m\u001b[0;34m\u001b[0m\u001b[0m\n",
      "\u001b[0;31mValueError\u001b[0m: Invalid RGBA argument: 0.0",
      "\nThe above exception was the direct cause of the following exception:\n",
      "\u001b[0;31mValueError\u001b[0m                                Traceback (most recent call last)",
      "\u001b[0;32m<ipython-input-38-b0d497ca9f2b>\u001b[0m in \u001b[0;36m<module>\u001b[0;34m\u001b[0m\n\u001b[1;32m     20\u001b[0m \u001b[0my_kmeans\u001b[0m \u001b[0;34m=\u001b[0m \u001b[0mkmeans\u001b[0m\u001b[0;34m.\u001b[0m\u001b[0mpredict\u001b[0m\u001b[0;34m(\u001b[0m\u001b[0mdf\u001b[0m\u001b[0;34m)\u001b[0m\u001b[0;34m\u001b[0m\u001b[0;34m\u001b[0m\u001b[0m\n\u001b[1;32m     21\u001b[0m \u001b[0;34m\u001b[0m\u001b[0m\n\u001b[0;32m---> 22\u001b[0;31m \u001b[0mplt\u001b[0m\u001b[0;34m.\u001b[0m\u001b[0mscatter\u001b[0m\u001b[0;34m(\u001b[0m\u001b[0mtext\u001b[0m\u001b[0;34m[\u001b[0m\u001b[0;34m:\u001b[0m\u001b[0;34m,\u001b[0m \u001b[0;36m0\u001b[0m\u001b[0;34m]\u001b[0m\u001b[0;34m,\u001b[0m \u001b[0mtext\u001b[0m\u001b[0;34m[\u001b[0m\u001b[0;34m:\u001b[0m\u001b[0;34m,\u001b[0m \u001b[0;36m1\u001b[0m\u001b[0;34m]\u001b[0m\u001b[0;34m,\u001b[0m \u001b[0mc\u001b[0m\u001b[0;34m=\u001b[0m\u001b[0my_kmeans\u001b[0m\u001b[0;34m,\u001b[0m \u001b[0ms\u001b[0m\u001b[0;34m=\u001b[0m\u001b[0;36m50\u001b[0m\u001b[0;34m,\u001b[0m \u001b[0mcmap\u001b[0m\u001b[0;34m=\u001b[0m\u001b[0;34m'viridis'\u001b[0m\u001b[0;34m)\u001b[0m\u001b[0;34m\u001b[0m\u001b[0;34m\u001b[0m\u001b[0m\n\u001b[0m\u001b[1;32m     23\u001b[0m \u001b[0;34m\u001b[0m\u001b[0m\n\u001b[1;32m     24\u001b[0m \u001b[0mcenters\u001b[0m \u001b[0;34m=\u001b[0m \u001b[0mkmeans\u001b[0m\u001b[0;34m.\u001b[0m\u001b[0mcluster_centers_\u001b[0m\u001b[0;34m\u001b[0m\u001b[0;34m\u001b[0m\u001b[0m\n",
      "\u001b[0;32m~/opt/anaconda3/lib/python3.8/site-packages/matplotlib/pyplot.py\u001b[0m in \u001b[0;36mscatter\u001b[0;34m(x, y, s, c, marker, cmap, norm, vmin, vmax, alpha, linewidths, verts, edgecolors, plotnonfinite, data, **kwargs)\u001b[0m\n\u001b[1;32m   2888\u001b[0m         \u001b[0mverts\u001b[0m\u001b[0;34m=\u001b[0m\u001b[0mcbook\u001b[0m\u001b[0;34m.\u001b[0m\u001b[0mdeprecation\u001b[0m\u001b[0;34m.\u001b[0m\u001b[0m_deprecated_parameter\u001b[0m\u001b[0;34m,\u001b[0m\u001b[0;34m\u001b[0m\u001b[0;34m\u001b[0m\u001b[0m\n\u001b[1;32m   2889\u001b[0m         edgecolors=None, *, plotnonfinite=False, data=None, **kwargs):\n\u001b[0;32m-> 2890\u001b[0;31m     __ret = gca().scatter(\n\u001b[0m\u001b[1;32m   2891\u001b[0m         \u001b[0mx\u001b[0m\u001b[0;34m,\u001b[0m \u001b[0my\u001b[0m\u001b[0;34m,\u001b[0m \u001b[0ms\u001b[0m\u001b[0;34m=\u001b[0m\u001b[0ms\u001b[0m\u001b[0;34m,\u001b[0m \u001b[0mc\u001b[0m\u001b[0;34m=\u001b[0m\u001b[0mc\u001b[0m\u001b[0;34m,\u001b[0m \u001b[0mmarker\u001b[0m\u001b[0;34m=\u001b[0m\u001b[0mmarker\u001b[0m\u001b[0;34m,\u001b[0m \u001b[0mcmap\u001b[0m\u001b[0;34m=\u001b[0m\u001b[0mcmap\u001b[0m\u001b[0;34m,\u001b[0m \u001b[0mnorm\u001b[0m\u001b[0;34m=\u001b[0m\u001b[0mnorm\u001b[0m\u001b[0;34m,\u001b[0m\u001b[0;34m\u001b[0m\u001b[0;34m\u001b[0m\u001b[0m\n\u001b[1;32m   2892\u001b[0m         \u001b[0mvmin\u001b[0m\u001b[0;34m=\u001b[0m\u001b[0mvmin\u001b[0m\u001b[0;34m,\u001b[0m \u001b[0mvmax\u001b[0m\u001b[0;34m=\u001b[0m\u001b[0mvmax\u001b[0m\u001b[0;34m,\u001b[0m \u001b[0malpha\u001b[0m\u001b[0;34m=\u001b[0m\u001b[0malpha\u001b[0m\u001b[0;34m,\u001b[0m \u001b[0mlinewidths\u001b[0m\u001b[0;34m=\u001b[0m\u001b[0mlinewidths\u001b[0m\u001b[0;34m,\u001b[0m\u001b[0;34m\u001b[0m\u001b[0;34m\u001b[0m\u001b[0m\n",
      "\u001b[0;32m~/opt/anaconda3/lib/python3.8/site-packages/matplotlib/__init__.py\u001b[0m in \u001b[0;36minner\u001b[0;34m(ax, data, *args, **kwargs)\u001b[0m\n\u001b[1;32m   1445\u001b[0m     \u001b[0;32mdef\u001b[0m \u001b[0minner\u001b[0m\u001b[0;34m(\u001b[0m\u001b[0max\u001b[0m\u001b[0;34m,\u001b[0m \u001b[0;34m*\u001b[0m\u001b[0margs\u001b[0m\u001b[0;34m,\u001b[0m \u001b[0mdata\u001b[0m\u001b[0;34m=\u001b[0m\u001b[0;32mNone\u001b[0m\u001b[0;34m,\u001b[0m \u001b[0;34m**\u001b[0m\u001b[0mkwargs\u001b[0m\u001b[0;34m)\u001b[0m\u001b[0;34m:\u001b[0m\u001b[0;34m\u001b[0m\u001b[0;34m\u001b[0m\u001b[0m\n\u001b[1;32m   1446\u001b[0m         \u001b[0;32mif\u001b[0m \u001b[0mdata\u001b[0m \u001b[0;32mis\u001b[0m \u001b[0;32mNone\u001b[0m\u001b[0;34m:\u001b[0m\u001b[0;34m\u001b[0m\u001b[0;34m\u001b[0m\u001b[0m\n\u001b[0;32m-> 1447\u001b[0;31m             \u001b[0;32mreturn\u001b[0m \u001b[0mfunc\u001b[0m\u001b[0;34m(\u001b[0m\u001b[0max\u001b[0m\u001b[0;34m,\u001b[0m \u001b[0;34m*\u001b[0m\u001b[0mmap\u001b[0m\u001b[0;34m(\u001b[0m\u001b[0msanitize_sequence\u001b[0m\u001b[0;34m,\u001b[0m \u001b[0margs\u001b[0m\u001b[0;34m)\u001b[0m\u001b[0;34m,\u001b[0m \u001b[0;34m**\u001b[0m\u001b[0mkwargs\u001b[0m\u001b[0;34m)\u001b[0m\u001b[0;34m\u001b[0m\u001b[0;34m\u001b[0m\u001b[0m\n\u001b[0m\u001b[1;32m   1448\u001b[0m \u001b[0;34m\u001b[0m\u001b[0m\n\u001b[1;32m   1449\u001b[0m         \u001b[0mbound\u001b[0m \u001b[0;34m=\u001b[0m \u001b[0mnew_sig\u001b[0m\u001b[0;34m.\u001b[0m\u001b[0mbind\u001b[0m\u001b[0;34m(\u001b[0m\u001b[0max\u001b[0m\u001b[0;34m,\u001b[0m \u001b[0;34m*\u001b[0m\u001b[0margs\u001b[0m\u001b[0;34m,\u001b[0m \u001b[0;34m**\u001b[0m\u001b[0mkwargs\u001b[0m\u001b[0;34m)\u001b[0m\u001b[0;34m\u001b[0m\u001b[0;34m\u001b[0m\u001b[0m\n",
      "\u001b[0;32m~/opt/anaconda3/lib/python3.8/site-packages/matplotlib/cbook/deprecation.py\u001b[0m in \u001b[0;36mwrapper\u001b[0;34m(*inner_args, **inner_kwargs)\u001b[0m\n\u001b[1;32m    409\u001b[0m                          \u001b[0;32melse\u001b[0m \u001b[0mdeprecation_addendum\u001b[0m\u001b[0;34m,\u001b[0m\u001b[0;34m\u001b[0m\u001b[0;34m\u001b[0m\u001b[0m\n\u001b[1;32m    410\u001b[0m                 **kwargs)\n\u001b[0;32m--> 411\u001b[0;31m         \u001b[0;32mreturn\u001b[0m \u001b[0mfunc\u001b[0m\u001b[0;34m(\u001b[0m\u001b[0;34m*\u001b[0m\u001b[0minner_args\u001b[0m\u001b[0;34m,\u001b[0m \u001b[0;34m**\u001b[0m\u001b[0minner_kwargs\u001b[0m\u001b[0;34m)\u001b[0m\u001b[0;34m\u001b[0m\u001b[0;34m\u001b[0m\u001b[0m\n\u001b[0m\u001b[1;32m    412\u001b[0m \u001b[0;34m\u001b[0m\u001b[0m\n\u001b[1;32m    413\u001b[0m     \u001b[0;32mreturn\u001b[0m \u001b[0mwrapper\u001b[0m\u001b[0;34m\u001b[0m\u001b[0;34m\u001b[0m\u001b[0m\n",
      "\u001b[0;32m~/opt/anaconda3/lib/python3.8/site-packages/matplotlib/axes/_axes.py\u001b[0m in \u001b[0;36mscatter\u001b[0;34m(self, x, y, s, c, marker, cmap, norm, vmin, vmax, alpha, linewidths, verts, edgecolors, plotnonfinite, **kwargs)\u001b[0m\n\u001b[1;32m   4449\u001b[0m \u001b[0;34m\u001b[0m\u001b[0m\n\u001b[1;32m   4450\u001b[0m         \u001b[0mc\u001b[0m\u001b[0;34m,\u001b[0m \u001b[0mcolors\u001b[0m\u001b[0;34m,\u001b[0m \u001b[0medgecolors\u001b[0m \u001b[0;34m=\u001b[0m\u001b[0;31m \u001b[0m\u001b[0;31m\\\u001b[0m\u001b[0;34m\u001b[0m\u001b[0;34m\u001b[0m\u001b[0m\n\u001b[0;32m-> 4451\u001b[0;31m             self._parse_scatter_color_args(\n\u001b[0m\u001b[1;32m   4452\u001b[0m                 \u001b[0mc\u001b[0m\u001b[0;34m,\u001b[0m \u001b[0medgecolors\u001b[0m\u001b[0;34m,\u001b[0m \u001b[0mkwargs\u001b[0m\u001b[0;34m,\u001b[0m \u001b[0mx\u001b[0m\u001b[0;34m.\u001b[0m\u001b[0msize\u001b[0m\u001b[0;34m,\u001b[0m\u001b[0;34m\u001b[0m\u001b[0;34m\u001b[0m\u001b[0m\n\u001b[1;32m   4453\u001b[0m                 get_next_color_func=self._get_patches_for_fill.get_next_color)\n",
      "\u001b[0;32m~/opt/anaconda3/lib/python3.8/site-packages/matplotlib/axes/_axes.py\u001b[0m in \u001b[0;36m_parse_scatter_color_args\u001b[0;34m(c, edgecolors, kwargs, xsize, get_next_color_func)\u001b[0m\n\u001b[1;32m   4295\u001b[0m                 \u001b[0;32melse\u001b[0m\u001b[0;34m:\u001b[0m\u001b[0;34m\u001b[0m\u001b[0;34m\u001b[0m\u001b[0m\n\u001b[1;32m   4296\u001b[0m                     \u001b[0;32mif\u001b[0m \u001b[0;32mnot\u001b[0m \u001b[0mvalid_shape\u001b[0m\u001b[0;34m:\u001b[0m\u001b[0;34m\u001b[0m\u001b[0;34m\u001b[0m\u001b[0m\n\u001b[0;32m-> 4297\u001b[0;31m                         \u001b[0;32mraise\u001b[0m \u001b[0minvalid_shape_exception\u001b[0m\u001b[0;34m(\u001b[0m\u001b[0mc\u001b[0m\u001b[0;34m.\u001b[0m\u001b[0msize\u001b[0m\u001b[0;34m,\u001b[0m \u001b[0mxsize\u001b[0m\u001b[0;34m)\u001b[0m \u001b[0;32mfrom\u001b[0m \u001b[0merr\u001b[0m\u001b[0;34m\u001b[0m\u001b[0;34m\u001b[0m\u001b[0m\n\u001b[0m\u001b[1;32m   4298\u001b[0m                     \u001b[0;31m# Both the mapping *and* the RGBA conversion failed: pretty\u001b[0m\u001b[0;34m\u001b[0m\u001b[0;34m\u001b[0m\u001b[0;34m\u001b[0m\u001b[0m\n\u001b[1;32m   4299\u001b[0m                     \u001b[0;31m# severe failure => one may appreciate a verbose feedback.\u001b[0m\u001b[0;34m\u001b[0m\u001b[0;34m\u001b[0m\u001b[0;34m\u001b[0m\u001b[0m\n",
      "\u001b[0;31mValueError\u001b[0m: 'c' argument has 10 elements, which is inconsistent with 'x' and 'y' with size 1."
     ]
    },
    {
     "data": {
      "image/png": "[encoded data removed]",
      "text/plain": [
       "<Figure size 432x288 with 1 Axes>"
      ]
     },
     "metadata": {},
     "output_type": "display_data"
    }
   ],
   "source": [
    "from sklearn.cluster import MiniBatchKMeans\n",
    "from sklearn.feature_extraction.text import TfidfVectorizer\n",
    "from sklearn.decomposition import PCA\n",
    "from sklearn.manifold import TSNE\n",
    "import numpy as np\n",
    "import pandas as pd\n",
    "from sklearn.feature_extraction.text import TfidfVectorizer \n",
    "import numpy as np\n",
    "\n",
    "tfidf = TfidfVectorizer(use_idf=True)\n",
    "tfidf.fit(newlistOfDocus)\n",
    "text = tfidf.transform(newlistOfDocus)\n",
    "clusters = MiniBatchKMeans(n_clusters=10).fit_predict(text)\n",
    "    \n",
    "df = pd.DataFrame(text.todense()).groupby(clusters).mean()\n",
    "\n",
    "from sklearn.cluster import KMeans\n",
    "kmeans = KMeans(n_clusters=4)\n",
    "kmeans.fit(df)\n",
    "y_kmeans = kmeans.predict(df)\n",
    "\n",
    "plt.scatter(text[:, 0], text[:, 1], c=y_kmeans, s=50, cmap='viridis')\n",
    "\n",
    "centers = kmeans.cluster_centers_\n",
    "plt.scatter(centers[:, 0], centers[:, 1], c='white', s=200, alpha=0.5);"
   ]
  },
  {
   "cell_type": "code",
   "execution_count": null,
   "metadata": {},
   "outputs": [],
   "source": []
  },
  {
   "cell_type": "code",
   "execution_count": null,
   "metadata": {},
   "outputs": [],
   "source": []
  },
  {
   "cell_type": "code",
   "execution_count": null,
   "metadata": {},
   "outputs": [],
   "source": []
  },
  {
   "cell_type": "code",
   "execution_count": null,
   "metadata": {},
   "outputs": [],
   "source": []
  },
  {
   "cell_type": "code",
   "execution_count": null,
   "metadata": {},
   "outputs": [],
   "source": []
  },
  {
   "cell_type": "code",
   "execution_count": null,
   "metadata": {},
   "outputs": [],
   "source": []
  },
  {
   "cell_type": "code",
   "execution_count": null,
   "metadata": {},
   "outputs": [],
   "source": []
  },
  {
   "cell_type": "code",
   "execution_count": null,
   "metadata": {},
   "outputs": [],
   "source": []
  },
  {
   "cell_type": "code",
   "execution_count": null,
   "metadata": {},
   "outputs": [],
   "source": []
  }
 ],
 "metadata": {
  "kernelspec": {
   "display_name": "Python 3",
   "language": "python",
   "name": "python3"
  },
  "language_info": {
   "codemirror_mode": {
    "name": "ipython",
    "version": 3
   },
   "file_extension": ".py",
   "mimetype": "text/x-python",
   "name": "python",
   "nbconvert_exporter": "python",
   "pygments_lexer": "ipython3",
   "version": "3.8.8"
  }
 },
 "nbformat": 4,
 "nbformat_minor": 4
}
