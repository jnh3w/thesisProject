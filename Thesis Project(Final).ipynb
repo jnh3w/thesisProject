{
 "cells": [
  {
   "cell_type": "code",
   "execution_count": null,
   "id": "2a4a0a2f",
   "metadata": {},
   "outputs": [],
   "source": [
    "#move over base funcitonality to here\n",
    "#figure out how to make it a library\n",
    "#figure out how to make the tests into individual functions with parameters for code reuse\n",
    "#try this with week timeslices to limit the amount of time waiting\n",
    "#add in BERTScore from hugging face to score if the text summarization has gotten any better\n",
    "#https://huggingface.co/metrics/bertscore"
   ]
  }
 ],
 "metadata": {
  "kernelspec": {
   "display_name": "Python 3",
   "language": "python",
   "name": "python3"
  },
  "language_info": {
   "codemirror_mode": {
    "name": "ipython",
    "version": 3
   },
   "file_extension": ".py",
   "mimetype": "text/x-python",
   "name": "python",
   "nbconvert_exporter": "python",
   "pygments_lexer": "ipython3",
   "version": "3.8.8"
  }
 },
 "nbformat": 4,
 "nbformat_minor": 5
}
